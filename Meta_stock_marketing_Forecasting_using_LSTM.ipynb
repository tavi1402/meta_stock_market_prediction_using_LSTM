{
  "nbformat": 4,
  "nbformat_minor": 0,
  "metadata": {
    "colab": {
      "provenance": []
    },
    "kernelspec": {
      "name": "python3",
      "display_name": "Python 3"
    },
    "language_info": {
      "name": "python"
    }
  },
  "cells": [
    {
      "cell_type": "code",
      "source": [
        "import tensorflow as tf\n",
        "### Create the Stacked LSTM model\n",
        "from tensorflow.keras.models import Sequential\n",
        "from tensorflow.keras.layers import Dense\n",
        "from tensorflow.keras.layers import LSTM\n",
        "import numpy as np"
      ],
      "metadata": {
        "id": "P27_aXRZudSj"
      },
      "execution_count": 121,
      "outputs": []
    },
    {
      "cell_type": "code",
      "execution_count": 54,
      "metadata": {
        "id": "tO-NfW62bSco"
      },
      "outputs": [],
      "source": [
        "import pandas_datareader as pdr\n",
        "key=\"b022a2e19366d2879f6a14024c34d28b0c793dca\""
      ]
    },
    {
      "cell_type": "code",
      "source": [
        "df = pdr.get_data_tiingo('META', api_key=key)"
      ],
      "metadata": {
        "colab": {
          "base_uri": "https://localhost:8080/"
        },
        "id": "FCHuc0VCbzOb",
        "outputId": "5c3e96cd-ba6c-48ff-f14c-f0ac90e1f665"
      },
      "execution_count": 55,
      "outputs": [
        {
          "output_type": "stream",
          "name": "stderr",
          "text": [
            "<ipython-input-55-8492782c7472>:1: FutureWarning: In a future version of pandas all arguments of concat except for the argument 'objs' will be keyword-only.\n",
            "  df = pdr.get_data_tiingo('META', api_key=key)\n"
          ]
        }
      ]
    },
    {
      "cell_type": "code",
      "source": [
        "df.to_csv('META.csv')"
      ],
      "metadata": {
        "id": "H5o42Fwnb6Rt"
      },
      "execution_count": 56,
      "outputs": []
    },
    {
      "cell_type": "code",
      "source": [
        "import pandas as pd"
      ],
      "metadata": {
        "id": "AlLtJSPrcJi9"
      },
      "execution_count": 57,
      "outputs": []
    },
    {
      "cell_type": "code",
      "source": [
        "df=pd.read_csv('META.csv')\n",
        "df.head()"
      ],
      "metadata": {
        "colab": {
          "base_uri": "https://localhost:8080/",
          "height": 250
        },
        "id": "MBjgJzYtcr40",
        "outputId": "f92abae2-a4ea-42b4-d3fa-e5e5d5989f8f"
      },
      "execution_count": 58,
      "outputs": [
        {
          "output_type": "execute_result",
          "data": {
            "text/plain": [
              "  symbol                       date   close    high     low    open    volume  \\\n",
              "0   META  2018-07-16 00:00:00+00:00  207.23  208.72  206.84  207.50  11078209   \n",
              "1   META  2018-07-17 00:00:00+00:00  209.99  210.46  204.84  204.90  15349892   \n",
              "2   META  2018-07-18 00:00:00+00:00  209.36  210.99  208.44  209.82  15334907   \n",
              "3   META  2018-07-19 00:00:00+00:00  208.09  209.99  207.76  208.77  11350429   \n",
              "4   META  2018-07-20 00:00:00+00:00  209.94  211.50  208.50  208.85  16241508   \n",
              "\n",
              "   adjClose  adjHigh  adjLow  adjOpen  adjVolume  divCash  splitFactor  \n",
              "0    207.23   208.72  206.84   207.50   11078209      0.0          1.0  \n",
              "1    209.99   210.46  204.84   204.90   15349892      0.0          1.0  \n",
              "2    209.36   210.99  208.44   209.82   15334907      0.0          1.0  \n",
              "3    208.09   209.99  207.76   208.77   11350429      0.0          1.0  \n",
              "4    209.94   211.50  208.50   208.85   16241508      0.0          1.0  "
            ],
            "text/html": [
              "\n",
              "\n",
              "  <div id=\"df-ecca5e59-ec0d-4e07-898c-d3c405c786e6\">\n",
              "    <div class=\"colab-df-container\">\n",
              "      <div>\n",
              "<style scoped>\n",
              "    .dataframe tbody tr th:only-of-type {\n",
              "        vertical-align: middle;\n",
              "    }\n",
              "\n",
              "    .dataframe tbody tr th {\n",
              "        vertical-align: top;\n",
              "    }\n",
              "\n",
              "    .dataframe thead th {\n",
              "        text-align: right;\n",
              "    }\n",
              "</style>\n",
              "<table border=\"1\" class=\"dataframe\">\n",
              "  <thead>\n",
              "    <tr style=\"text-align: right;\">\n",
              "      <th></th>\n",
              "      <th>symbol</th>\n",
              "      <th>date</th>\n",
              "      <th>close</th>\n",
              "      <th>high</th>\n",
              "      <th>low</th>\n",
              "      <th>open</th>\n",
              "      <th>volume</th>\n",
              "      <th>adjClose</th>\n",
              "      <th>adjHigh</th>\n",
              "      <th>adjLow</th>\n",
              "      <th>adjOpen</th>\n",
              "      <th>adjVolume</th>\n",
              "      <th>divCash</th>\n",
              "      <th>splitFactor</th>\n",
              "    </tr>\n",
              "  </thead>\n",
              "  <tbody>\n",
              "    <tr>\n",
              "      <th>0</th>\n",
              "      <td>META</td>\n",
              "      <td>2018-07-16 00:00:00+00:00</td>\n",
              "      <td>207.23</td>\n",
              "      <td>208.72</td>\n",
              "      <td>206.84</td>\n",
              "      <td>207.50</td>\n",
              "      <td>11078209</td>\n",
              "      <td>207.23</td>\n",
              "      <td>208.72</td>\n",
              "      <td>206.84</td>\n",
              "      <td>207.50</td>\n",
              "      <td>11078209</td>\n",
              "      <td>0.0</td>\n",
              "      <td>1.0</td>\n",
              "    </tr>\n",
              "    <tr>\n",
              "      <th>1</th>\n",
              "      <td>META</td>\n",
              "      <td>2018-07-17 00:00:00+00:00</td>\n",
              "      <td>209.99</td>\n",
              "      <td>210.46</td>\n",
              "      <td>204.84</td>\n",
              "      <td>204.90</td>\n",
              "      <td>15349892</td>\n",
              "      <td>209.99</td>\n",
              "      <td>210.46</td>\n",
              "      <td>204.84</td>\n",
              "      <td>204.90</td>\n",
              "      <td>15349892</td>\n",
              "      <td>0.0</td>\n",
              "      <td>1.0</td>\n",
              "    </tr>\n",
              "    <tr>\n",
              "      <th>2</th>\n",
              "      <td>META</td>\n",
              "      <td>2018-07-18 00:00:00+00:00</td>\n",
              "      <td>209.36</td>\n",
              "      <td>210.99</td>\n",
              "      <td>208.44</td>\n",
              "      <td>209.82</td>\n",
              "      <td>15334907</td>\n",
              "      <td>209.36</td>\n",
              "      <td>210.99</td>\n",
              "      <td>208.44</td>\n",
              "      <td>209.82</td>\n",
              "      <td>15334907</td>\n",
              "      <td>0.0</td>\n",
              "      <td>1.0</td>\n",
              "    </tr>\n",
              "    <tr>\n",
              "      <th>3</th>\n",
              "      <td>META</td>\n",
              "      <td>2018-07-19 00:00:00+00:00</td>\n",
              "      <td>208.09</td>\n",
              "      <td>209.99</td>\n",
              "      <td>207.76</td>\n",
              "      <td>208.77</td>\n",
              "      <td>11350429</td>\n",
              "      <td>208.09</td>\n",
              "      <td>209.99</td>\n",
              "      <td>207.76</td>\n",
              "      <td>208.77</td>\n",
              "      <td>11350429</td>\n",
              "      <td>0.0</td>\n",
              "      <td>1.0</td>\n",
              "    </tr>\n",
              "    <tr>\n",
              "      <th>4</th>\n",
              "      <td>META</td>\n",
              "      <td>2018-07-20 00:00:00+00:00</td>\n",
              "      <td>209.94</td>\n",
              "      <td>211.50</td>\n",
              "      <td>208.50</td>\n",
              "      <td>208.85</td>\n",
              "      <td>16241508</td>\n",
              "      <td>209.94</td>\n",
              "      <td>211.50</td>\n",
              "      <td>208.50</td>\n",
              "      <td>208.85</td>\n",
              "      <td>16241508</td>\n",
              "      <td>0.0</td>\n",
              "      <td>1.0</td>\n",
              "    </tr>\n",
              "  </tbody>\n",
              "</table>\n",
              "</div>\n",
              "      <button class=\"colab-df-convert\" onclick=\"convertToInteractive('df-ecca5e59-ec0d-4e07-898c-d3c405c786e6')\"\n",
              "              title=\"Convert this dataframe to an interactive table.\"\n",
              "              style=\"display:none;\">\n",
              "\n",
              "  <svg xmlns=\"http://www.w3.org/2000/svg\" height=\"24px\"viewBox=\"0 0 24 24\"\n",
              "       width=\"24px\">\n",
              "    <path d=\"M0 0h24v24H0V0z\" fill=\"none\"/>\n",
              "    <path d=\"M18.56 5.44l.94 2.06.94-2.06 2.06-.94-2.06-.94-.94-2.06-.94 2.06-2.06.94zm-11 1L8.5 8.5l.94-2.06 2.06-.94-2.06-.94L8.5 2.5l-.94 2.06-2.06.94zm10 10l.94 2.06.94-2.06 2.06-.94-2.06-.94-.94-2.06-.94 2.06-2.06.94z\"/><path d=\"M17.41 7.96l-1.37-1.37c-.4-.4-.92-.59-1.43-.59-.52 0-1.04.2-1.43.59L10.3 9.45l-7.72 7.72c-.78.78-.78 2.05 0 2.83L4 21.41c.39.39.9.59 1.41.59.51 0 1.02-.2 1.41-.59l7.78-7.78 2.81-2.81c.8-.78.8-2.07 0-2.86zM5.41 20L4 18.59l7.72-7.72 1.47 1.35L5.41 20z\"/>\n",
              "  </svg>\n",
              "      </button>\n",
              "\n",
              "\n",
              "\n",
              "    <div id=\"df-a601d195-5dcf-42be-ac65-6a9d0d2df45f\">\n",
              "      <button class=\"colab-df-quickchart\" onclick=\"quickchart('df-a601d195-5dcf-42be-ac65-6a9d0d2df45f')\"\n",
              "              title=\"Suggest charts.\"\n",
              "              style=\"display:none;\">\n",
              "\n",
              "<svg xmlns=\"http://www.w3.org/2000/svg\" height=\"24px\"viewBox=\"0 0 24 24\"\n",
              "     width=\"24px\">\n",
              "    <g>\n",
              "        <path d=\"M19 3H5c-1.1 0-2 .9-2 2v14c0 1.1.9 2 2 2h14c1.1 0 2-.9 2-2V5c0-1.1-.9-2-2-2zM9 17H7v-7h2v7zm4 0h-2V7h2v10zm4 0h-2v-4h2v4z\"/>\n",
              "    </g>\n",
              "</svg>\n",
              "      </button>\n",
              "    </div>\n",
              "\n",
              "<style>\n",
              "  .colab-df-quickchart {\n",
              "    background-color: #E8F0FE;\n",
              "    border: none;\n",
              "    border-radius: 50%;\n",
              "    cursor: pointer;\n",
              "    display: none;\n",
              "    fill: #1967D2;\n",
              "    height: 32px;\n",
              "    padding: 0 0 0 0;\n",
              "    width: 32px;\n",
              "  }\n",
              "\n",
              "  .colab-df-quickchart:hover {\n",
              "    background-color: #E2EBFA;\n",
              "    box-shadow: 0px 1px 2px rgba(60, 64, 67, 0.3), 0px 1px 3px 1px rgba(60, 64, 67, 0.15);\n",
              "    fill: #174EA6;\n",
              "  }\n",
              "\n",
              "  [theme=dark] .colab-df-quickchart {\n",
              "    background-color: #3B4455;\n",
              "    fill: #D2E3FC;\n",
              "  }\n",
              "\n",
              "  [theme=dark] .colab-df-quickchart:hover {\n",
              "    background-color: #434B5C;\n",
              "    box-shadow: 0px 1px 3px 1px rgba(0, 0, 0, 0.15);\n",
              "    filter: drop-shadow(0px 1px 2px rgba(0, 0, 0, 0.3));\n",
              "    fill: #FFFFFF;\n",
              "  }\n",
              "</style>\n",
              "\n",
              "    <script>\n",
              "      async function quickchart(key) {\n",
              "        const containerElement = document.querySelector('#' + key);\n",
              "        const charts = await google.colab.kernel.invokeFunction(\n",
              "            'suggestCharts', [key], {});\n",
              "      }\n",
              "    </script>\n",
              "\n",
              "      <script>\n",
              "\n",
              "function displayQuickchartButton(domScope) {\n",
              "  let quickchartButtonEl =\n",
              "    domScope.querySelector('#df-a601d195-5dcf-42be-ac65-6a9d0d2df45f button.colab-df-quickchart');\n",
              "  quickchartButtonEl.style.display =\n",
              "    google.colab.kernel.accessAllowed ? 'block' : 'none';\n",
              "}\n",
              "\n",
              "        displayQuickchartButton(document);\n",
              "      </script>\n",
              "      <style>\n",
              "    .colab-df-container {\n",
              "      display:flex;\n",
              "      flex-wrap:wrap;\n",
              "      gap: 12px;\n",
              "    }\n",
              "\n",
              "    .colab-df-convert {\n",
              "      background-color: #E8F0FE;\n",
              "      border: none;\n",
              "      border-radius: 50%;\n",
              "      cursor: pointer;\n",
              "      display: none;\n",
              "      fill: #1967D2;\n",
              "      height: 32px;\n",
              "      padding: 0 0 0 0;\n",
              "      width: 32px;\n",
              "    }\n",
              "\n",
              "    .colab-df-convert:hover {\n",
              "      background-color: #E2EBFA;\n",
              "      box-shadow: 0px 1px 2px rgba(60, 64, 67, 0.3), 0px 1px 3px 1px rgba(60, 64, 67, 0.15);\n",
              "      fill: #174EA6;\n",
              "    }\n",
              "\n",
              "    [theme=dark] .colab-df-convert {\n",
              "      background-color: #3B4455;\n",
              "      fill: #D2E3FC;\n",
              "    }\n",
              "\n",
              "    [theme=dark] .colab-df-convert:hover {\n",
              "      background-color: #434B5C;\n",
              "      box-shadow: 0px 1px 3px 1px rgba(0, 0, 0, 0.15);\n",
              "      filter: drop-shadow(0px 1px 2px rgba(0, 0, 0, 0.3));\n",
              "      fill: #FFFFFF;\n",
              "    }\n",
              "  </style>\n",
              "\n",
              "      <script>\n",
              "        const buttonEl =\n",
              "          document.querySelector('#df-ecca5e59-ec0d-4e07-898c-d3c405c786e6 button.colab-df-convert');\n",
              "        buttonEl.style.display =\n",
              "          google.colab.kernel.accessAllowed ? 'block' : 'none';\n",
              "\n",
              "        async function convertToInteractive(key) {\n",
              "          const element = document.querySelector('#df-ecca5e59-ec0d-4e07-898c-d3c405c786e6');\n",
              "          const dataTable =\n",
              "            await google.colab.kernel.invokeFunction('convertToInteractive',\n",
              "                                                     [key], {});\n",
              "          if (!dataTable) return;\n",
              "\n",
              "          const docLinkHtml = 'Like what you see? Visit the ' +\n",
              "            '<a target=\"_blank\" href=https://colab.research.google.com/notebooks/data_table.ipynb>data table notebook</a>'\n",
              "            + ' to learn more about interactive tables.';\n",
              "          element.innerHTML = '';\n",
              "          dataTable['output_type'] = 'display_data';\n",
              "          await google.colab.output.renderOutput(dataTable, element);\n",
              "          const docLink = document.createElement('div');\n",
              "          docLink.innerHTML = docLinkHtml;\n",
              "          element.appendChild(docLink);\n",
              "        }\n",
              "      </script>\n",
              "    </div>\n",
              "  </div>\n"
            ]
          },
          "metadata": {},
          "execution_count": 58
        }
      ]
    },
    {
      "cell_type": "code",
      "source": [
        "df1=df.reset_index()['close']\n",
        "df1"
      ],
      "metadata": {
        "colab": {
          "base_uri": "https://localhost:8080/"
        },
        "id": "AgdblonhcuMg",
        "outputId": "d8d473f5-c359-454f-f8d1-cd0a0b117e12"
      },
      "execution_count": 59,
      "outputs": [
        {
          "output_type": "execute_result",
          "data": {
            "text/plain": [
              "0       207.23\n",
              "1       209.99\n",
              "2       209.36\n",
              "3       208.09\n",
              "4       209.94\n",
              "         ...  \n",
              "1251    291.99\n",
              "1252    290.53\n",
              "1253    294.10\n",
              "1254    298.29\n",
              "1255    309.34\n",
              "Name: close, Length: 1256, dtype: float64"
            ]
          },
          "metadata": {},
          "execution_count": 59
        }
      ]
    },
    {
      "cell_type": "code",
      "source": [
        "import matplotlib.pyplot as plt\n",
        "plt.plot(df1)"
      ],
      "metadata": {
        "colab": {
          "base_uri": "https://localhost:8080/",
          "height": 447
        },
        "id": "1kNIkVzrdCM7",
        "outputId": "966352b0-d93e-4995-dadc-fc59666dc5e1"
      },
      "execution_count": 60,
      "outputs": [
        {
          "output_type": "execute_result",
          "data": {
            "text/plain": [
              "[<matplotlib.lines.Line2D at 0x7e28ada235b0>]"
            ]
          },
          "metadata": {},
          "execution_count": 60
        },
        {
          "output_type": "display_data",
          "data": {
            "text/plain": [
              "<Figure size 640x480 with 1 Axes>"
            ],
            "image/png": "[encoded data removed]"
          },
          "metadata": {}
        }
      ]
    },
    {
      "cell_type": "code",
      "source": [
        "from sklearn.preprocessing import MinMaxScaler\n",
        "scaler=MinMaxScaler(feature_range=(0,1))\n",
        "df1=scaler.fit_transform(np.array(df1).reshape(-1,1))"
      ],
      "metadata": {
        "id": "u5bKzITEpDW7"
      },
      "execution_count": 64,
      "outputs": []
    },
    {
      "cell_type": "code",
      "source": [
        "##splitting dataset into train and test split\n",
        "training_size=int(len(df1)*0.65)\n",
        "test_size=len(df1)-training_size\n",
        "train_data,test_data=df1[0:training_size,:],df1[training_size:len(df1),:1]"
      ],
      "metadata": {
        "id": "qTwdIebEpJaL"
      },
      "execution_count": 66,
      "outputs": []
    },
    {
      "cell_type": "code",
      "source": [
        "training_size,test_size"
      ],
      "metadata": {
        "colab": {
          "base_uri": "https://localhost:8080/"
        },
        "id": "sHFX804xpJcL",
        "outputId": "33783ac2-5963-47ad-a716-729a8f3df06f"
      },
      "execution_count": 67,
      "outputs": [
        {
          "output_type": "execute_result",
          "data": {
            "text/plain": [
              "(816, 440)"
            ]
          },
          "metadata": {},
          "execution_count": 67
        }
      ]
    },
    {
      "cell_type": "code",
      "source": [
        "import numpy\n",
        "# convert an array of values into a dataset matrix\n",
        "def create_dataset(dataset, time_step=1):\n",
        "\tdataX, dataY = [], []\n",
        "\tfor i in range(len(dataset)-time_step-1):\n",
        "\t\ta = dataset[i:(i+time_step), 0]   ###i=0, 0,1,2,3-----99   100\n",
        "\t\tdataX.append(a)\n",
        "\t\tdataY.append(dataset[i + time_step, 0])\n",
        "\treturn numpy.array(dataX), numpy.array(dataY)"
      ],
      "metadata": {
        "id": "hbm-0I7NpYEI"
      },
      "execution_count": 69,
      "outputs": []
    },
    {
      "cell_type": "code",
      "source": [
        "# reshape into X=t,t+1,t+2,t+3 and Y=t+4\n",
        "time_step = 100\n",
        "X_train, y_train = create_dataset(train_data, time_step)\n",
        "X_test, ytest = create_dataset(test_data, time_step)"
      ],
      "metadata": {
        "id": "gcNcO_YTpcEB"
      },
      "execution_count": 70,
      "outputs": []
    },
    {
      "cell_type": "code",
      "source": [
        "print(X_train.shape), print(y_train.shape)"
      ],
      "metadata": {
        "colab": {
          "base_uri": "https://localhost:8080/"
        },
        "id": "MWdfXqgtfMTF",
        "outputId": "a01f2272-9a1b-487e-de15-31bde5deaced"
      },
      "execution_count": 71,
      "outputs": [
        {
          "output_type": "stream",
          "name": "stdout",
          "text": [
            "(715, 100)\n",
            "(715,)\n"
          ]
        },
        {
          "output_type": "execute_result",
          "data": {
            "text/plain": [
              "(None, None)"
            ]
          },
          "metadata": {},
          "execution_count": 71
        }
      ]
    },
    {
      "cell_type": "code",
      "source": [
        "print(X_test.shape), print(ytest.shape)"
      ],
      "metadata": {
        "colab": {
          "base_uri": "https://localhost:8080/"
        },
        "id": "QgoKyYrMfPT7",
        "outputId": "d1d0acce-bc12-4620-e81f-209f7338069a"
      },
      "execution_count": 72,
      "outputs": [
        {
          "output_type": "stream",
          "name": "stdout",
          "text": [
            "(339, 100)\n",
            "(339,)\n"
          ]
        },
        {
          "output_type": "execute_result",
          "data": {
            "text/plain": [
              "(None, None)"
            ]
          },
          "metadata": {},
          "execution_count": 72
        }
      ]
    },
    {
      "cell_type": "code",
      "source": [
        "# reshape input to be [samples, time steps, features] which is required for LSTM\n",
        "X_train =X_train.reshape(X_train.shape[0],X_train.shape[1] , 1)\n",
        "X_test = X_test.reshape(X_test.shape[0],X_test.shape[1] , 1)"
      ],
      "metadata": {
        "id": "SywlwRH-fSZO"
      },
      "execution_count": 73,
      "outputs": []
    },
    {
      "cell_type": "code",
      "source": [
        "model=Sequential()\n",
        "model.add(LSTM(50,return_sequences=True,input_shape=(100,1)))\n",
        "model.add(LSTM(50,return_sequences=True))\n",
        "model.add(LSTM(50))\n",
        "model.add(Dense(1))\n",
        "model.compile(loss='mean_squared_error',optimizer='adam')"
      ],
      "metadata": {
        "id": "F0QV6Pd_fX68"
      },
      "execution_count": 75,
      "outputs": []
    },
    {
      "cell_type": "code",
      "source": [
        "model.summary()"
      ],
      "metadata": {
        "colab": {
          "base_uri": "https://localhost:8080/"
        },
        "id": "FhnHkX9wfarC",
        "outputId": "c691fc73-2df8-4476-ae10-3e71272981b9"
      },
      "execution_count": 76,
      "outputs": [
        {
          "output_type": "stream",
          "name": "stdout",
          "text": [
            "Model: \"sequential_1\"\n",
            "_________________________________________________________________\n",
            " Layer (type)                Output Shape              Param #   \n",
            "=================================================================\n",
            " lstm_3 (LSTM)               (None, 100, 50)           10400     \n",
            "                                                                 \n",
            " lstm_4 (LSTM)               (None, 100, 50)           20200     \n",
            "                                                                 \n",
            " lstm_5 (LSTM)               (None, 50)                20200     \n",
            "                                                                 \n",
            " dense_1 (Dense)             (None, 1)                 51        \n",
            "                                                                 \n",
            "=================================================================\n",
            "Total params: 50,851\n",
            "Trainable params: 50,851\n",
            "Non-trainable params: 0\n",
            "_________________________________________________________________\n"
          ]
        }
      ]
    },
    {
      "cell_type": "code",
      "source": [
        "model.fit(X_train,y_train,validation_data=(X_test,ytest),epochs=100,batch_size=64,verbose=1)"
      ],
      "metadata": {
        "colab": {
          "base_uri": "https://localhost:8080/"
        },
        "id": "QyFeBbOGffsd",
        "outputId": "f651f533-090d-4697-8eaa-4d06f443d6c0"
      },
      "execution_count": 77,
      "outputs": [
        {
          "output_type": "stream",
          "name": "stdout",
          "text": [
            "Epoch 1/100\n",
            "12/12 [==============================] - 7s 203ms/step - loss: 0.1171 - val_loss: 0.0105\n",
            "Epoch 2/100\n",
            "12/12 [==============================] - 3s 234ms/step - loss: 0.0120 - val_loss: 0.0101\n",
            "Epoch 3/100\n",
            "12/12 [==============================] - 3s 245ms/step - loss: 0.0067 - val_loss: 0.0052\n",
            "Epoch 4/100\n",
            "12/12 [==============================] - 3s 229ms/step - loss: 0.0040 - val_loss: 0.0053\n",
            "Epoch 5/100\n",
            "12/12 [==============================] - 3s 280ms/step - loss: 0.0022 - val_loss: 0.0034\n",
            "Epoch 6/100\n",
            "12/12 [==============================] - 2s 208ms/step - loss: 0.0019 - val_loss: 0.0031\n",
            "Epoch 7/100\n",
            "12/12 [==============================] - 2s 164ms/step - loss: 0.0019 - val_loss: 0.0031\n",
            "Epoch 8/100\n",
            "12/12 [==============================] - 1s 124ms/step - loss: 0.0018 - val_loss: 0.0031\n",
            "Epoch 9/100\n",
            "12/12 [==============================] - 2s 159ms/step - loss: 0.0019 - val_loss: 0.0032\n",
            "Epoch 10/100\n",
            "12/12 [==============================] - 2s 164ms/step - loss: 0.0018 - val_loss: 0.0031\n",
            "Epoch 11/100\n",
            "12/12 [==============================] - 1s 124ms/step - loss: 0.0019 - val_loss: 0.0030\n",
            "Epoch 12/100\n",
            "12/12 [==============================] - 1s 122ms/step - loss: 0.0018 - val_loss: 0.0030\n",
            "Epoch 13/100\n",
            "12/12 [==============================] - 2s 136ms/step - loss: 0.0017 - val_loss: 0.0030\n",
            "Epoch 14/100\n",
            "12/12 [==============================] - 2s 162ms/step - loss: 0.0018 - val_loss: 0.0029\n",
            "Epoch 15/100\n",
            "12/12 [==============================] - 2s 125ms/step - loss: 0.0018 - val_loss: 0.0028\n",
            "Epoch 16/100\n",
            "12/12 [==============================] - 1s 124ms/step - loss: 0.0017 - val_loss: 0.0029\n",
            "Epoch 17/100\n",
            "12/12 [==============================] - 1s 124ms/step - loss: 0.0017 - val_loss: 0.0028\n",
            "Epoch 18/100\n",
            "12/12 [==============================] - 1s 123ms/step - loss: 0.0017 - val_loss: 0.0027\n",
            "Epoch 19/100\n",
            "12/12 [==============================] - 1s 123ms/step - loss: 0.0016 - val_loss: 0.0027\n",
            "Epoch 20/100\n",
            "12/12 [==============================] - 1s 122ms/step - loss: 0.0017 - val_loss: 0.0026\n",
            "Epoch 21/100\n",
            "12/12 [==============================] - 3s 269ms/step - loss: 0.0016 - val_loss: 0.0026\n",
            "Epoch 22/100\n",
            "12/12 [==============================] - 2s 165ms/step - loss: 0.0016 - val_loss: 0.0025\n",
            "Epoch 23/100\n",
            "12/12 [==============================] - 3s 248ms/step - loss: 0.0016 - val_loss: 0.0025\n",
            "Epoch 24/100\n",
            "12/12 [==============================] - 2s 126ms/step - loss: 0.0016 - val_loss: 0.0025\n",
            "Epoch 25/100\n",
            "12/12 [==============================] - 1s 122ms/step - loss: 0.0015 - val_loss: 0.0024\n",
            "Epoch 26/100\n",
            "12/12 [==============================] - 1s 123ms/step - loss: 0.0015 - val_loss: 0.0023\n",
            "Epoch 27/100\n",
            "12/12 [==============================] - 2s 179ms/step - loss: 0.0015 - val_loss: 0.0023\n",
            "Epoch 28/100\n",
            "12/12 [==============================] - 2s 127ms/step - loss: 0.0014 - val_loss: 0.0022\n",
            "Epoch 29/100\n",
            "12/12 [==============================] - 1s 124ms/step - loss: 0.0014 - val_loss: 0.0022\n",
            "Epoch 30/100\n",
            "12/12 [==============================] - 2s 126ms/step - loss: 0.0014 - val_loss: 0.0021\n",
            "Epoch 31/100\n",
            "12/12 [==============================] - 2s 127ms/step - loss: 0.0013 - val_loss: 0.0021\n",
            "Epoch 32/100\n",
            "12/12 [==============================] - 1s 124ms/step - loss: 0.0013 - val_loss: 0.0021\n",
            "Epoch 33/100\n",
            "12/12 [==============================] - 1s 125ms/step - loss: 0.0014 - val_loss: 0.0021\n",
            "Epoch 34/100\n",
            "12/12 [==============================] - 2s 154ms/step - loss: 0.0014 - val_loss: 0.0021\n",
            "Epoch 35/100\n",
            "12/12 [==============================] - 2s 180ms/step - loss: 0.0014 - val_loss: 0.0020\n",
            "Epoch 36/100\n",
            "12/12 [==============================] - 1s 123ms/step - loss: 0.0013 - val_loss: 0.0022\n",
            "Epoch 37/100\n",
            "12/12 [==============================] - 1s 123ms/step - loss: 0.0013 - val_loss: 0.0020\n",
            "Epoch 38/100\n",
            "12/12 [==============================] - 1s 124ms/step - loss: 0.0013 - val_loss: 0.0021\n",
            "Epoch 39/100\n",
            "12/12 [==============================] - 1s 123ms/step - loss: 0.0013 - val_loss: 0.0019\n",
            "Epoch 40/100\n",
            "12/12 [==============================] - 2s 178ms/step - loss: 0.0012 - val_loss: 0.0019\n",
            "Epoch 41/100\n",
            "12/12 [==============================] - 2s 162ms/step - loss: 0.0011 - val_loss: 0.0020\n",
            "Epoch 42/100\n",
            "12/12 [==============================] - 2s 138ms/step - loss: 0.0012 - val_loss: 0.0019\n",
            "Epoch 43/100\n",
            "12/12 [==============================] - 1s 123ms/step - loss: 0.0012 - val_loss: 0.0018\n",
            "Epoch 44/100\n",
            "12/12 [==============================] - 1s 123ms/step - loss: 0.0013 - val_loss: 0.0018\n",
            "Epoch 45/100\n",
            "12/12 [==============================] - 1s 124ms/step - loss: 0.0012 - val_loss: 0.0019\n",
            "Epoch 46/100\n",
            "12/12 [==============================] - 1s 126ms/step - loss: 0.0012 - val_loss: 0.0019\n",
            "Epoch 47/100\n",
            "12/12 [==============================] - 2s 148ms/step - loss: 0.0012 - val_loss: 0.0018\n",
            "Epoch 48/100\n",
            "12/12 [==============================] - 3s 273ms/step - loss: 0.0012 - val_loss: 0.0018\n",
            "Epoch 49/100\n",
            "12/12 [==============================] - 2s 123ms/step - loss: 0.0011 - val_loss: 0.0018\n",
            "Epoch 50/100\n",
            "12/12 [==============================] - 1s 124ms/step - loss: 0.0011 - val_loss: 0.0018\n",
            "Epoch 51/100\n",
            "12/12 [==============================] - 2s 126ms/step - loss: 0.0011 - val_loss: 0.0018\n",
            "Epoch 52/100\n",
            "12/12 [==============================] - 1s 124ms/step - loss: 0.0011 - val_loss: 0.0018\n",
            "Epoch 53/100\n",
            "12/12 [==============================] - 1s 125ms/step - loss: 0.0011 - val_loss: 0.0017\n",
            "Epoch 54/100\n",
            "12/12 [==============================] - 2s 128ms/step - loss: 0.0011 - val_loss: 0.0019\n",
            "Epoch 55/100\n",
            "12/12 [==============================] - 2s 151ms/step - loss: 0.0011 - val_loss: 0.0018\n",
            "Epoch 56/100\n",
            "12/12 [==============================] - 2s 147ms/step - loss: 0.0011 - val_loss: 0.0017\n",
            "Epoch 57/100\n",
            "12/12 [==============================] - 1s 125ms/step - loss: 9.9998e-04 - val_loss: 0.0017\n",
            "Epoch 58/100\n",
            "12/12 [==============================] - 1s 123ms/step - loss: 0.0010 - val_loss: 0.0018\n",
            "Epoch 59/100\n",
            "12/12 [==============================] - 2s 169ms/step - loss: 0.0011 - val_loss: 0.0018\n",
            "Epoch 60/100\n",
            "12/12 [==============================] - 2s 164ms/step - loss: 0.0011 - val_loss: 0.0017\n",
            "Epoch 61/100\n",
            "12/12 [==============================] - 2s 159ms/step - loss: 0.0012 - val_loss: 0.0017\n",
            "Epoch 62/100\n",
            "12/12 [==============================] - 3s 296ms/step - loss: 0.0014 - val_loss: 0.0017\n",
            "Epoch 63/100\n",
            "12/12 [==============================] - 1s 125ms/step - loss: 0.0012 - val_loss: 0.0019\n",
            "Epoch 64/100\n",
            "12/12 [==============================] - 2s 132ms/step - loss: 0.0011 - val_loss: 0.0020\n",
            "Epoch 65/100\n",
            "12/12 [==============================] - 2s 153ms/step - loss: 0.0012 - val_loss: 0.0017\n",
            "Epoch 66/100\n",
            "12/12 [==============================] - 2s 127ms/step - loss: 0.0010 - val_loss: 0.0018\n",
            "Epoch 67/100\n",
            "12/12 [==============================] - 1s 122ms/step - loss: 0.0010 - val_loss: 0.0017\n",
            "Epoch 68/100\n",
            "12/12 [==============================] - 2s 175ms/step - loss: 9.6668e-04 - val_loss: 0.0016\n",
            "Epoch 69/100\n",
            "12/12 [==============================] - 3s 273ms/step - loss: 9.8834e-04 - val_loss: 0.0017\n",
            "Epoch 70/100\n",
            "12/12 [==============================] - 2s 127ms/step - loss: 0.0010 - val_loss: 0.0016\n",
            "Epoch 71/100\n",
            "12/12 [==============================] - 1s 124ms/step - loss: 9.2432e-04 - val_loss: 0.0016\n",
            "Epoch 72/100\n",
            "12/12 [==============================] - 2s 139ms/step - loss: 8.9192e-04 - val_loss: 0.0017\n",
            "Epoch 73/100\n",
            "12/12 [==============================] - 2s 167ms/step - loss: 9.7826e-04 - val_loss: 0.0016\n",
            "Epoch 74/100\n",
            "12/12 [==============================] - 2s 140ms/step - loss: 9.4350e-04 - val_loss: 0.0016\n",
            "Epoch 75/100\n",
            "12/12 [==============================] - 2s 159ms/step - loss: 8.8073e-04 - val_loss: 0.0015\n",
            "Epoch 76/100\n",
            "12/12 [==============================] - 2s 165ms/step - loss: 9.0250e-04 - val_loss: 0.0015\n",
            "Epoch 77/100\n",
            "12/12 [==============================] - 1s 124ms/step - loss: 9.0101e-04 - val_loss: 0.0015\n",
            "Epoch 78/100\n",
            "12/12 [==============================] - 1s 124ms/step - loss: 8.9786e-04 - val_loss: 0.0015\n",
            "Epoch 79/100\n",
            "12/12 [==============================] - 2s 127ms/step - loss: 8.5712e-04 - val_loss: 0.0015\n",
            "Epoch 80/100\n",
            "12/12 [==============================] - 2s 126ms/step - loss: 8.5853e-04 - val_loss: 0.0015\n",
            "Epoch 81/100\n",
            "12/12 [==============================] - 2s 133ms/step - loss: 8.1524e-04 - val_loss: 0.0015\n",
            "Epoch 82/100\n",
            "12/12 [==============================] - 3s 227ms/step - loss: 8.4569e-04 - val_loss: 0.0014\n",
            "Epoch 83/100\n",
            "12/12 [==============================] - 2s 128ms/step - loss: 8.6487e-04 - val_loss: 0.0015\n",
            "Epoch 84/100\n",
            "12/12 [==============================] - 2s 127ms/step - loss: 9.3730e-04 - val_loss: 0.0015\n",
            "Epoch 85/100\n",
            "12/12 [==============================] - 1s 124ms/step - loss: 8.8194e-04 - val_loss: 0.0014\n",
            "Epoch 86/100\n",
            "12/12 [==============================] - 1s 123ms/step - loss: 8.2296e-04 - val_loss: 0.0015\n",
            "Epoch 87/100\n",
            "12/12 [==============================] - 1s 124ms/step - loss: 8.2908e-04 - val_loss: 0.0014\n",
            "Epoch 88/100\n",
            "12/12 [==============================] - 2s 126ms/step - loss: 8.5110e-04 - val_loss: 0.0014\n",
            "Epoch 89/100\n",
            "12/12 [==============================] - 2s 176ms/step - loss: 0.0012 - val_loss: 0.0016\n",
            "Epoch 90/100\n",
            "12/12 [==============================] - 1s 125ms/step - loss: 0.0011 - val_loss: 0.0014\n",
            "Epoch 91/100\n",
            "12/12 [==============================] - 2s 126ms/step - loss: 7.8309e-04 - val_loss: 0.0014\n",
            "Epoch 92/100\n",
            "12/12 [==============================] - 2s 126ms/step - loss: 7.3155e-04 - val_loss: 0.0013\n",
            "Epoch 93/100\n",
            "12/12 [==============================] - 1s 122ms/step - loss: 7.2506e-04 - val_loss: 0.0014\n",
            "Epoch 94/100\n",
            "12/12 [==============================] - 1s 124ms/step - loss: 7.5759e-04 - val_loss: 0.0013\n",
            "Epoch 95/100\n",
            "12/12 [==============================] - 1s 124ms/step - loss: 8.0749e-04 - val_loss: 0.0013\n",
            "Epoch 96/100\n",
            "12/12 [==============================] - 2s 157ms/step - loss: 7.7610e-04 - val_loss: 0.0013\n",
            "Epoch 97/100\n",
            "12/12 [==============================] - 2s 139ms/step - loss: 7.4402e-04 - val_loss: 0.0013\n",
            "Epoch 98/100\n",
            "12/12 [==============================] - 1s 124ms/step - loss: 7.4761e-04 - val_loss: 0.0013\n",
            "Epoch 99/100\n",
            "12/12 [==============================] - 2s 127ms/step - loss: 6.9189e-04 - val_loss: 0.0013\n",
            "Epoch 100/100\n",
            "12/12 [==============================] - 1s 125ms/step - loss: 6.8206e-04 - val_loss: 0.0012\n"
          ]
        },
        {
          "output_type": "execute_result",
          "data": {
            "text/plain": [
              "<keras.callbacks.History at 0x7e28ada3ed40>"
            ]
          },
          "metadata": {},
          "execution_count": 77
        }
      ]
    },
    {
      "cell_type": "code",
      "source": [
        "### Lets Do the prediction and check performance metrics\n",
        "train_predict=model.predict(X_train)\n",
        "test_predict=model.predict(X_test)\n"
      ],
      "metadata": {
        "colab": {
          "base_uri": "https://localhost:8080/"
        },
        "id": "vSjp8zDSgNjx",
        "outputId": "e355e443-741a-46c7-fe4a-c918bfa0e445"
      },
      "execution_count": 79,
      "outputs": [
        {
          "output_type": "stream",
          "name": "stdout",
          "text": [
            "23/23 [==============================] - 1s 27ms/step\n",
            "11/11 [==============================] - 0s 24ms/step\n"
          ]
        }
      ]
    },
    {
      "cell_type": "code",
      "source": [
        "##Transformback to original form\n",
        "train_predict=scaler.inverse_transform(train_predict)\n",
        "test_predict=scaler.inverse_transform(test_predict)"
      ],
      "metadata": {
        "id": "YujEYt4kpsz2"
      },
      "execution_count": 81,
      "outputs": []
    },
    {
      "cell_type": "code",
      "source": [
        "### Calculate RMSE performance metrics\n",
        "import math\n",
        "from sklearn.metrics import mean_squared_error\n",
        "math.sqrt(mean_squared_error(y_train,train_predict))"
      ],
      "metadata": {
        "colab": {
          "base_uri": "https://localhost:8080/"
        },
        "id": "5zc6vNFpgNne",
        "outputId": "044f32c2-8381-4cff-f060-9e44b9e9f122"
      },
      "execution_count": 83,
      "outputs": [
        {
          "output_type": "execute_result",
          "data": {
            "text/plain": [
              "0.122748875437521"
            ]
          },
          "metadata": {},
          "execution_count": 83
        }
      ]
    },
    {
      "cell_type": "code",
      "source": [
        "### Test Data RMSE\n",
        "math.sqrt(mean_squared_error(ytest,test_predict))"
      ],
      "metadata": {
        "colab": {
          "base_uri": "https://localhost:8080/"
        },
        "id": "_faK2uYxgsSl",
        "outputId": "634f6579-54fd-46b7-9088-6c457f7e530d"
      },
      "execution_count": 84,
      "outputs": [
        {
          "output_type": "execute_result",
          "data": {
            "text/plain": [
              "0.16343431379590354"
            ]
          },
          "metadata": {},
          "execution_count": 84
        }
      ]
    },
    {
      "cell_type": "code",
      "source": [
        "### Plotting\n",
        "# shift train predictions for plotting\n",
        "look_back=100\n",
        "trainPredictPlot = numpy.empty_like(df1)\n",
        "trainPredictPlot[:, :] = np.nan\n",
        "trainPredictPlot[look_back:len(train_predict)+look_back, :] = train_predict\n",
        "# shift test predictions for plotting\n",
        "testPredictPlot = numpy.empty_like(df1)\n",
        "testPredictPlot[:, :] = numpy.nan\n",
        "testPredictPlot[len(train_predict)+(look_back*2)+1:len(df1)-1, :] = test_predict\n",
        "# plot baseline and predictions\n",
        "plt.plot(scaler.inverse_transform(df1))\n",
        "plt.plot(trainPredictPlot)\n",
        "plt.plot(testPredictPlot)\n",
        "plt.show()\n"
      ],
      "metadata": {
        "colab": {
          "base_uri": "https://localhost:8080/",
          "height": 430
        },
        "id": "HT7PeTi-gsU4",
        "outputId": "b24fa758-028f-437f-9bef-fffa7af9851b"
      },
      "execution_count": 82,
      "outputs": [
        {
          "output_type": "display_data",
          "data": {
            "text/plain": [
              "<Figure size 640x480 with 1 Axes>"
            ],
            "image/png": "[encoded data removed]"
          },
          "metadata": {}
        }
      ]
    },
    {
      "cell_type": "code",
      "source": [
        "x_input=test_data[341:].reshape(1,-1)\n",
        "x_input.shape"
      ],
      "metadata": {
        "colab": {
          "base_uri": "https://localhost:8080/"
        },
        "id": "R0jvbhVygsW_",
        "outputId": "415942e5-892c-4953-d709-7aed97667a6c"
      },
      "execution_count": 85,
      "outputs": [
        {
          "output_type": "execute_result",
          "data": {
            "text/plain": [
              "(1, 99)"
            ]
          },
          "metadata": {},
          "execution_count": 85
        }
      ]
    },
    {
      "cell_type": "code",
      "source": [
        "temp_input=list(x_input)\n",
        "temp_input=temp_input[0].tolist()"
      ],
      "metadata": {
        "id": "4l3HMdPBgsZO"
      },
      "execution_count": 86,
      "outputs": []
    },
    {
      "cell_type": "code",
      "source": [
        "lst_output = []\n",
        "n_steps = 100  # Adjusted to match the size of x_input\n",
        "i = 0\n",
        "while i < 30:\n",
        "    if len(temp_input) > n_steps:\n",
        "        x_input = np.array(temp_input[1:])\n",
        "        print(\"{} day input {}\".format(i, x_input))\n",
        "        x_input = x_input.reshape(1, -1)\n",
        "        x_input = x_input.reshape((1, n_steps, 1))\n",
        "        yhat = model.predict(x_input, verbose=0)\n",
        "        print(\"{} day output {}\".format(i, yhat))\n",
        "        temp_input.extend(yhat[0].tolist())\n",
        "        temp_input = temp_input[1:]\n",
        "        lst_output.extend(yhat.tolist())\n",
        "        i += 1\n",
        "    else:\n",
        "        x_input = x_input.reshape((1, len(temp_input), 1))\n",
        "        yhat = model.predict(x_input, verbose=0)\n",
        "        print(yhat[0])\n",
        "        temp_input.extend(yhat[0].tolist())\n",
        "        print(len(temp_input))\n",
        "        lst_output.extend(yhat.tolist())\n",
        "        i += 1\n",
        "\n",
        "print(lst_output)"
      ],
      "metadata": {
        "colab": {
          "base_uri": "https://localhost:8080/"
        },
        "id": "VdLT4Ljeq0vO",
        "outputId": "0205c551-f4b4-4d4d-fb46-9bbedd9c5a39"
      },
      "execution_count": 89,
      "outputs": [
        {
          "output_type": "stream",
          "name": "stdout",
          "text": [
            "0 day input [0.28359532 0.28032189 0.28345893 0.27783271 0.27493436 0.29334743\n",
            " 0.28816449 0.2919494  0.32850274 0.32730931 0.32597947 0.32754799\n",
            " 0.31636376 0.30893034 0.31367    0.35840693 0.37112558 0.39560814\n",
            " 0.36382855 0.37133017 0.38616292 0.37814983 0.39339176 0.39929076\n",
            " 0.3884816  0.38111638 0.39704027 0.40553074 0.41951103 0.42336414\n",
            " 0.42899035 0.41794251 0.43369591 0.42909265 0.4260238  0.42653527\n",
            " 0.44818768 0.45207488 0.44310703 0.4397995  0.43233198 0.42336414\n",
            " 0.42275037 0.42240938 0.40454189 0.41085007 0.51028063 0.51628192\n",
            " 0.52603403 0.51259931 0.50506359 0.4930951  0.49057183 0.49224264\n",
            " 0.49258363 0.49159478 0.50083541 0.49408395 0.51130358 0.51116718\n",
            " 0.5236642  0.5385481  0.5344222  0.54356054 0.53817301 0.54659529\n",
            " 0.55846149 0.59034337 0.59198009 0.59948171 0.62638524 0.62638524\n",
            " 0.62222525 0.6213046  0.5956627  0.59900433 0.60026597 0.62106591\n",
            " 0.62198657 0.62890851 0.65782385 0.65499369 0.66634842 0.65717598\n",
            " 0.66822382 0.68135166 0.64636683 0.67562315 0.66962185 0.6568009\n",
            " 0.67538446 0.67211102 0.70058308 0.69246769 0.68748934 0.69966243\n",
            " 0.7139496  0.75162819 0.70574427 0.70574427]\n",
            "0 day output [[0.7136837]]\n",
            "1 day input [0.28032189 0.28345893 0.27783271 0.27493436 0.29334743 0.28816449\n",
            " 0.2919494  0.32850274 0.32730931 0.32597947 0.32754799 0.31636376\n",
            " 0.30893034 0.31367    0.35840693 0.37112558 0.39560814 0.36382855\n",
            " 0.37133017 0.38616292 0.37814983 0.39339176 0.39929076 0.3884816\n",
            " 0.38111638 0.39704027 0.40553074 0.41951103 0.42336414 0.42899035\n",
            " 0.41794251 0.43369591 0.42909265 0.4260238  0.42653527 0.44818768\n",
            " 0.45207488 0.44310703 0.4397995  0.43233198 0.42336414 0.42275037\n",
            " 0.42240938 0.40454189 0.41085007 0.51028063 0.51628192 0.52603403\n",
            " 0.51259931 0.50506359 0.4930951  0.49057183 0.49224264 0.49258363\n",
            " 0.49159478 0.50083541 0.49408395 0.51130358 0.51116718 0.5236642\n",
            " 0.5385481  0.5344222  0.54356054 0.53817301 0.54659529 0.55846149\n",
            " 0.59034337 0.59198009 0.59948171 0.62638524 0.62638524 0.62222525\n",
            " 0.6213046  0.5956627  0.59900433 0.60026597 0.62106591 0.62198657\n",
            " 0.62890851 0.65782385 0.65499369 0.66634842 0.65717598 0.66822382\n",
            " 0.68135166 0.64636683 0.67562315 0.66962185 0.6568009  0.67538446\n",
            " 0.67211102 0.70058308 0.69246769 0.68748934 0.69966243 0.7139496\n",
            " 0.75162819 0.70574427 0.70574427 0.71368372]\n",
            "1 day output [[0.712165]]\n",
            "2 day input [0.28345893 0.27783271 0.27493436 0.29334743 0.28816449 0.2919494\n",
            " 0.32850274 0.32730931 0.32597947 0.32754799 0.31636376 0.30893034\n",
            " 0.31367    0.35840693 0.37112558 0.39560814 0.36382855 0.37133017\n",
            " 0.38616292 0.37814983 0.39339176 0.39929076 0.3884816  0.38111638\n",
            " 0.39704027 0.40553074 0.41951103 0.42336414 0.42899035 0.41794251\n",
            " 0.43369591 0.42909265 0.4260238  0.42653527 0.44818768 0.45207488\n",
            " 0.44310703 0.4397995  0.43233198 0.42336414 0.42275037 0.42240938\n",
            " 0.40454189 0.41085007 0.51028063 0.51628192 0.52603403 0.51259931\n",
            " 0.50506359 0.4930951  0.49057183 0.49224264 0.49258363 0.49159478\n",
            " 0.50083541 0.49408395 0.51130358 0.51116718 0.5236642  0.5385481\n",
            " 0.5344222  0.54356054 0.53817301 0.54659529 0.55846149 0.59034337\n",
            " 0.59198009 0.59948171 0.62638524 0.62638524 0.62222525 0.6213046\n",
            " 0.5956627  0.59900433 0.60026597 0.62106591 0.62198657 0.62890851\n",
            " 0.65782385 0.65499369 0.66634842 0.65717598 0.66822382 0.68135166\n",
            " 0.64636683 0.67562315 0.66962185 0.6568009  0.67538446 0.67211102\n",
            " 0.70058308 0.69246769 0.68748934 0.69966243 0.7139496  0.75162819\n",
            " 0.70574427 0.70574427 0.71368372 0.712165  ]\n",
            "2 day output [[0.7099065]]\n",
            "3 day input [0.27783271 0.27493436 0.29334743 0.28816449 0.2919494  0.32850274\n",
            " 0.32730931 0.32597947 0.32754799 0.31636376 0.30893034 0.31367\n",
            " 0.35840693 0.37112558 0.39560814 0.36382855 0.37133017 0.38616292\n",
            " 0.37814983 0.39339176 0.39929076 0.3884816  0.38111638 0.39704027\n",
            " 0.40553074 0.41951103 0.42336414 0.42899035 0.41794251 0.43369591\n",
            " 0.42909265 0.4260238  0.42653527 0.44818768 0.45207488 0.44310703\n",
            " 0.4397995  0.43233198 0.42336414 0.42275037 0.42240938 0.40454189\n",
            " 0.41085007 0.51028063 0.51628192 0.52603403 0.51259931 0.50506359\n",
            " 0.4930951  0.49057183 0.49224264 0.49258363 0.49159478 0.50083541\n",
            " 0.49408395 0.51130358 0.51116718 0.5236642  0.5385481  0.5344222\n",
            " 0.54356054 0.53817301 0.54659529 0.55846149 0.59034337 0.59198009\n",
            " 0.59948171 0.62638524 0.62638524 0.62222525 0.6213046  0.5956627\n",
            " 0.59900433 0.60026597 0.62106591 0.62198657 0.62890851 0.65782385\n",
            " 0.65499369 0.66634842 0.65717598 0.66822382 0.68135166 0.64636683\n",
            " 0.67562315 0.66962185 0.6568009  0.67538446 0.67211102 0.70058308\n",
            " 0.69246769 0.68748934 0.69966243 0.7139496  0.75162819 0.70574427\n",
            " 0.70574427 0.71368372 0.712165   0.70990652]\n",
            "3 day output [[0.7074831]]\n",
            "4 day input [0.27493436 0.29334743 0.28816449 0.2919494  0.32850274 0.32730931\n",
            " 0.32597947 0.32754799 0.31636376 0.30893034 0.31367    0.35840693\n",
            " 0.37112558 0.39560814 0.36382855 0.37133017 0.38616292 0.37814983\n",
            " 0.39339176 0.39929076 0.3884816  0.38111638 0.39704027 0.40553074\n",
            " 0.41951103 0.42336414 0.42899035 0.41794251 0.43369591 0.42909265\n",
            " 0.4260238  0.42653527 0.44818768 0.45207488 0.44310703 0.4397995\n",
            " 0.43233198 0.42336414 0.42275037 0.42240938 0.40454189 0.41085007\n",
            " 0.51028063 0.51628192 0.52603403 0.51259931 0.50506359 0.4930951\n",
            " 0.49057183 0.49224264 0.49258363 0.49159478 0.50083541 0.49408395\n",
            " 0.51130358 0.51116718 0.5236642  0.5385481  0.5344222  0.54356054\n",
            " 0.53817301 0.54659529 0.55846149 0.59034337 0.59198009 0.59948171\n",
            " 0.62638524 0.62638524 0.62222525 0.6213046  0.5956627  0.59900433\n",
            " 0.60026597 0.62106591 0.62198657 0.62890851 0.65782385 0.65499369\n",
            " 0.66634842 0.65717598 0.66822382 0.68135166 0.64636683 0.67562315\n",
            " 0.66962185 0.6568009  0.67538446 0.67211102 0.70058308 0.69246769\n",
            " 0.68748934 0.69966243 0.7139496  0.75162819 0.70574427 0.70574427\n",
            " 0.71368372 0.712165   0.70990652 0.70748311]\n",
            "4 day output [[0.7050591]]\n",
            "5 day input [0.29334743 0.28816449 0.2919494  0.32850274 0.32730931 0.32597947\n",
            " 0.32754799 0.31636376 0.30893034 0.31367    0.35840693 0.37112558\n",
            " 0.39560814 0.36382855 0.37133017 0.38616292 0.37814983 0.39339176\n",
            " 0.39929076 0.3884816  0.38111638 0.39704027 0.40553074 0.41951103\n",
            " 0.42336414 0.42899035 0.41794251 0.43369591 0.42909265 0.4260238\n",
            " 0.42653527 0.44818768 0.45207488 0.44310703 0.4397995  0.43233198\n",
            " 0.42336414 0.42275037 0.42240938 0.40454189 0.41085007 0.51028063\n",
            " 0.51628192 0.52603403 0.51259931 0.50506359 0.4930951  0.49057183\n",
            " 0.49224264 0.49258363 0.49159478 0.50083541 0.49408395 0.51130358\n",
            " 0.51116718 0.5236642  0.5385481  0.5344222  0.54356054 0.53817301\n",
            " 0.54659529 0.55846149 0.59034337 0.59198009 0.59948171 0.62638524\n",
            " 0.62638524 0.62222525 0.6213046  0.5956627  0.59900433 0.60026597\n",
            " 0.62106591 0.62198657 0.62890851 0.65782385 0.65499369 0.66634842\n",
            " 0.65717598 0.66822382 0.68135166 0.64636683 0.67562315 0.66962185\n",
            " 0.6568009  0.67538446 0.67211102 0.70058308 0.69246769 0.68748934\n",
            " 0.69966243 0.7139496  0.75162819 0.70574427 0.70574427 0.71368372\n",
            " 0.712165   0.70990652 0.70748311 0.70505911]\n",
            "5 day output [[0.7026756]]\n",
            "6 day input [0.28816449 0.2919494  0.32850274 0.32730931 0.32597947 0.32754799\n",
            " 0.31636376 0.30893034 0.31367    0.35840693 0.37112558 0.39560814\n",
            " 0.36382855 0.37133017 0.38616292 0.37814983 0.39339176 0.39929076\n",
            " 0.3884816  0.38111638 0.39704027 0.40553074 0.41951103 0.42336414\n",
            " 0.42899035 0.41794251 0.43369591 0.42909265 0.4260238  0.42653527\n",
            " 0.44818768 0.45207488 0.44310703 0.4397995  0.43233198 0.42336414\n",
            " 0.42275037 0.42240938 0.40454189 0.41085007 0.51028063 0.51628192\n",
            " 0.52603403 0.51259931 0.50506359 0.4930951  0.49057183 0.49224264\n",
            " 0.49258363 0.49159478 0.50083541 0.49408395 0.51130358 0.51116718\n",
            " 0.5236642  0.5385481  0.5344222  0.54356054 0.53817301 0.54659529\n",
            " 0.55846149 0.59034337 0.59198009 0.59948171 0.62638524 0.62638524\n",
            " 0.62222525 0.6213046  0.5956627  0.59900433 0.60026597 0.62106591\n",
            " 0.62198657 0.62890851 0.65782385 0.65499369 0.66634842 0.65717598\n",
            " 0.66822382 0.68135166 0.64636683 0.67562315 0.66962185 0.6568009\n",
            " 0.67538446 0.67211102 0.70058308 0.69246769 0.68748934 0.69966243\n",
            " 0.7139496  0.75162819 0.70574427 0.70574427 0.71368372 0.712165\n",
            " 0.70990652 0.70748311 0.70505911 0.70267558]\n",
            "6 day output [[0.7003524]]\n",
            "7 day input [0.2919494  0.32850274 0.32730931 0.32597947 0.32754799 0.31636376\n",
            " 0.30893034 0.31367    0.35840693 0.37112558 0.39560814 0.36382855\n",
            " 0.37133017 0.38616292 0.37814983 0.39339176 0.39929076 0.3884816\n",
            " 0.38111638 0.39704027 0.40553074 0.41951103 0.42336414 0.42899035\n",
            " 0.41794251 0.43369591 0.42909265 0.4260238  0.42653527 0.44818768\n",
            " 0.45207488 0.44310703 0.4397995  0.43233198 0.42336414 0.42275037\n",
            " 0.42240938 0.40454189 0.41085007 0.51028063 0.51628192 0.52603403\n",
            " 0.51259931 0.50506359 0.4930951  0.49057183 0.49224264 0.49258363\n",
            " 0.49159478 0.50083541 0.49408395 0.51130358 0.51116718 0.5236642\n",
            " 0.5385481  0.5344222  0.54356054 0.53817301 0.54659529 0.55846149\n",
            " 0.59034337 0.59198009 0.59948171 0.62638524 0.62638524 0.62222525\n",
            " 0.6213046  0.5956627  0.59900433 0.60026597 0.62106591 0.62198657\n",
            " 0.62890851 0.65782385 0.65499369 0.66634842 0.65717598 0.66822382\n",
            " 0.68135166 0.64636683 0.67562315 0.66962185 0.6568009  0.67538446\n",
            " 0.67211102 0.70058308 0.69246769 0.68748934 0.69966243 0.7139496\n",
            " 0.75162819 0.70574427 0.70574427 0.71368372 0.712165   0.70990652\n",
            " 0.70748311 0.70505911 0.70267558 0.70035237]\n",
            "7 day output [[0.69811183]]\n",
            "8 day input [0.32850274 0.32730931 0.32597947 0.32754799 0.31636376 0.30893034\n",
            " 0.31367    0.35840693 0.37112558 0.39560814 0.36382855 0.37133017\n",
            " 0.38616292 0.37814983 0.39339176 0.39929076 0.3884816  0.38111638\n",
            " 0.39704027 0.40553074 0.41951103 0.42336414 0.42899035 0.41794251\n",
            " 0.43369591 0.42909265 0.4260238  0.42653527 0.44818768 0.45207488\n",
            " 0.44310703 0.4397995  0.43233198 0.42336414 0.42275037 0.42240938\n",
            " 0.40454189 0.41085007 0.51028063 0.51628192 0.52603403 0.51259931\n",
            " 0.50506359 0.4930951  0.49057183 0.49224264 0.49258363 0.49159478\n",
            " 0.50083541 0.49408395 0.51130358 0.51116718 0.5236642  0.5385481\n",
            " 0.5344222  0.54356054 0.53817301 0.54659529 0.55846149 0.59034337\n",
            " 0.59198009 0.59948171 0.62638524 0.62638524 0.62222525 0.6213046\n",
            " 0.5956627  0.59900433 0.60026597 0.62106591 0.62198657 0.62890851\n",
            " 0.65782385 0.65499369 0.66634842 0.65717598 0.66822382 0.68135166\n",
            " 0.64636683 0.67562315 0.66962185 0.6568009  0.67538446 0.67211102\n",
            " 0.70058308 0.69246769 0.68748934 0.69966243 0.7139496  0.75162819\n",
            " 0.70574427 0.70574427 0.71368372 0.712165   0.70990652 0.70748311\n",
            " 0.70505911 0.70267558 0.70035237 0.69811183]\n",
            "8 day output [[0.69597596]]\n",
            "9 day input [0.32730931 0.32597947 0.32754799 0.31636376 0.30893034 0.31367\n",
            " 0.35840693 0.37112558 0.39560814 0.36382855 0.37133017 0.38616292\n",
            " 0.37814983 0.39339176 0.39929076 0.3884816  0.38111638 0.39704027\n",
            " 0.40553074 0.41951103 0.42336414 0.42899035 0.41794251 0.43369591\n",
            " 0.42909265 0.4260238  0.42653527 0.44818768 0.45207488 0.44310703\n",
            " 0.4397995  0.43233198 0.42336414 0.42275037 0.42240938 0.40454189\n",
            " 0.41085007 0.51028063 0.51628192 0.52603403 0.51259931 0.50506359\n",
            " 0.4930951  0.49057183 0.49224264 0.49258363 0.49159478 0.50083541\n",
            " 0.49408395 0.51130358 0.51116718 0.5236642  0.5385481  0.5344222\n",
            " 0.54356054 0.53817301 0.54659529 0.55846149 0.59034337 0.59198009\n",
            " 0.59948171 0.62638524 0.62638524 0.62222525 0.6213046  0.5956627\n",
            " 0.59900433 0.60026597 0.62106591 0.62198657 0.62890851 0.65782385\n",
            " 0.65499369 0.66634842 0.65717598 0.66822382 0.68135166 0.64636683\n",
            " 0.67562315 0.66962185 0.6568009  0.67538446 0.67211102 0.70058308\n",
            " 0.69246769 0.68748934 0.69966243 0.7139496  0.75162819 0.70574427\n",
            " 0.70574427 0.71368372 0.712165   0.70990652 0.70748311 0.70505911\n",
            " 0.70267558 0.70035237 0.69811183 0.69597596]\n",
            "9 day output [[0.6939644]]\n",
            "10 day input [0.32597947 0.32754799 0.31636376 0.30893034 0.31367    0.35840693\n",
            " 0.37112558 0.39560814 0.36382855 0.37133017 0.38616292 0.37814983\n",
            " 0.39339176 0.39929076 0.3884816  0.38111638 0.39704027 0.40553074\n",
            " 0.41951103 0.42336414 0.42899035 0.41794251 0.43369591 0.42909265\n",
            " 0.4260238  0.42653527 0.44818768 0.45207488 0.44310703 0.4397995\n",
            " 0.43233198 0.42336414 0.42275037 0.42240938 0.40454189 0.41085007\n",
            " 0.51028063 0.51628192 0.52603403 0.51259931 0.50506359 0.4930951\n",
            " 0.49057183 0.49224264 0.49258363 0.49159478 0.50083541 0.49408395\n",
            " 0.51130358 0.51116718 0.5236642  0.5385481  0.5344222  0.54356054\n",
            " 0.53817301 0.54659529 0.55846149 0.59034337 0.59198009 0.59948171\n",
            " 0.62638524 0.62638524 0.62222525 0.6213046  0.5956627  0.59900433\n",
            " 0.60026597 0.62106591 0.62198657 0.62890851 0.65782385 0.65499369\n",
            " 0.66634842 0.65717598 0.66822382 0.68135166 0.64636683 0.67562315\n",
            " 0.66962185 0.6568009  0.67538446 0.67211102 0.70058308 0.69246769\n",
            " 0.68748934 0.69966243 0.7139496  0.75162819 0.70574427 0.70574427\n",
            " 0.71368372 0.712165   0.70990652 0.70748311 0.70505911 0.70267558\n",
            " 0.70035237 0.69811183 0.69597596 0.69396442]\n",
            "10 day output [[0.6920909]]\n",
            "11 day input [0.32754799 0.31636376 0.30893034 0.31367    0.35840693 0.37112558\n",
            " 0.39560814 0.36382855 0.37133017 0.38616292 0.37814983 0.39339176\n",
            " 0.39929076 0.3884816  0.38111638 0.39704027 0.40553074 0.41951103\n",
            " 0.42336414 0.42899035 0.41794251 0.43369591 0.42909265 0.4260238\n",
            " 0.42653527 0.44818768 0.45207488 0.44310703 0.4397995  0.43233198\n",
            " 0.42336414 0.42275037 0.42240938 0.40454189 0.41085007 0.51028063\n",
            " 0.51628192 0.52603403 0.51259931 0.50506359 0.4930951  0.49057183\n",
            " 0.49224264 0.49258363 0.49159478 0.50083541 0.49408395 0.51130358\n",
            " 0.51116718 0.5236642  0.5385481  0.5344222  0.54356054 0.53817301\n",
            " 0.54659529 0.55846149 0.59034337 0.59198009 0.59948171 0.62638524\n",
            " 0.62638524 0.62222525 0.6213046  0.5956627  0.59900433 0.60026597\n",
            " 0.62106591 0.62198657 0.62890851 0.65782385 0.65499369 0.66634842\n",
            " 0.65717598 0.66822382 0.68135166 0.64636683 0.67562315 0.66962185\n",
            " 0.6568009  0.67538446 0.67211102 0.70058308 0.69246769 0.68748934\n",
            " 0.69966243 0.7139496  0.75162819 0.70574427 0.70574427 0.71368372\n",
            " 0.712165   0.70990652 0.70748311 0.70505911 0.70267558 0.70035237\n",
            " 0.69811183 0.69597596 0.69396442 0.69209093]\n",
            "11 day output [[0.6903634]]\n",
            "12 day input [0.31636376 0.30893034 0.31367    0.35840693 0.37112558 0.39560814\n",
            " 0.36382855 0.37133017 0.38616292 0.37814983 0.39339176 0.39929076\n",
            " 0.3884816  0.38111638 0.39704027 0.40553074 0.41951103 0.42336414\n",
            " 0.42899035 0.41794251 0.43369591 0.42909265 0.4260238  0.42653527\n",
            " 0.44818768 0.45207488 0.44310703 0.4397995  0.43233198 0.42336414\n",
            " 0.42275037 0.42240938 0.40454189 0.41085007 0.51028063 0.51628192\n",
            " 0.52603403 0.51259931 0.50506359 0.4930951  0.49057183 0.49224264\n",
            " 0.49258363 0.49159478 0.50083541 0.49408395 0.51130358 0.51116718\n",
            " 0.5236642  0.5385481  0.5344222  0.54356054 0.53817301 0.54659529\n",
            " 0.55846149 0.59034337 0.59198009 0.59948171 0.62638524 0.62638524\n",
            " 0.62222525 0.6213046  0.5956627  0.59900433 0.60026597 0.62106591\n",
            " 0.62198657 0.62890851 0.65782385 0.65499369 0.66634842 0.65717598\n",
            " 0.66822382 0.68135166 0.64636683 0.67562315 0.66962185 0.6568009\n",
            " 0.67538446 0.67211102 0.70058308 0.69246769 0.68748934 0.69966243\n",
            " 0.7139496  0.75162819 0.70574427 0.70574427 0.71368372 0.712165\n",
            " 0.70990652 0.70748311 0.70505911 0.70267558 0.70035237 0.69811183\n",
            " 0.69597596 0.69396442 0.69209093 0.69036341]\n",
            "12 day output [[0.68878436]]\n",
            "13 day input [0.30893034 0.31367    0.35840693 0.37112558 0.39560814 0.36382855\n",
            " 0.37133017 0.38616292 0.37814983 0.39339176 0.39929076 0.3884816\n",
            " 0.38111638 0.39704027 0.40553074 0.41951103 0.42336414 0.42899035\n",
            " 0.41794251 0.43369591 0.42909265 0.4260238  0.42653527 0.44818768\n",
            " 0.45207488 0.44310703 0.4397995  0.43233198 0.42336414 0.42275037\n",
            " 0.42240938 0.40454189 0.41085007 0.51028063 0.51628192 0.52603403\n",
            " 0.51259931 0.50506359 0.4930951  0.49057183 0.49224264 0.49258363\n",
            " 0.49159478 0.50083541 0.49408395 0.51130358 0.51116718 0.5236642\n",
            " 0.5385481  0.5344222  0.54356054 0.53817301 0.54659529 0.55846149\n",
            " 0.59034337 0.59198009 0.59948171 0.62638524 0.62638524 0.62222525\n",
            " 0.6213046  0.5956627  0.59900433 0.60026597 0.62106591 0.62198657\n",
            " 0.62890851 0.65782385 0.65499369 0.66634842 0.65717598 0.66822382\n",
            " 0.68135166 0.64636683 0.67562315 0.66962185 0.6568009  0.67538446\n",
            " 0.67211102 0.70058308 0.69246769 0.68748934 0.69966243 0.7139496\n",
            " 0.75162819 0.70574427 0.70574427 0.71368372 0.712165   0.70990652\n",
            " 0.70748311 0.70505911 0.70267558 0.70035237 0.69811183 0.69597596\n",
            " 0.69396442 0.69209093 0.69036341 0.68878436]\n",
            "13 day output [[0.68735254]]\n",
            "14 day input [0.31367    0.35840693 0.37112558 0.39560814 0.36382855 0.37133017\n",
            " 0.38616292 0.37814983 0.39339176 0.39929076 0.3884816  0.38111638\n",
            " 0.39704027 0.40553074 0.41951103 0.42336414 0.42899035 0.41794251\n",
            " 0.43369591 0.42909265 0.4260238  0.42653527 0.44818768 0.45207488\n",
            " 0.44310703 0.4397995  0.43233198 0.42336414 0.42275037 0.42240938\n",
            " 0.40454189 0.41085007 0.51028063 0.51628192 0.52603403 0.51259931\n",
            " 0.50506359 0.4930951  0.49057183 0.49224264 0.49258363 0.49159478\n",
            " 0.50083541 0.49408395 0.51130358 0.51116718 0.5236642  0.5385481\n",
            " 0.5344222  0.54356054 0.53817301 0.54659529 0.55846149 0.59034337\n",
            " 0.59198009 0.59948171 0.62638524 0.62638524 0.62222525 0.6213046\n",
            " 0.5956627  0.59900433 0.60026597 0.62106591 0.62198657 0.62890851\n",
            " 0.65782385 0.65499369 0.66634842 0.65717598 0.66822382 0.68135166\n",
            " 0.64636683 0.67562315 0.66962185 0.6568009  0.67538446 0.67211102\n",
            " 0.70058308 0.69246769 0.68748934 0.69966243 0.7139496  0.75162819\n",
            " 0.70574427 0.70574427 0.71368372 0.712165   0.70990652 0.70748311\n",
            " 0.70505911 0.70267558 0.70035237 0.69811183 0.69597596 0.69396442\n",
            " 0.69209093 0.69036341 0.68878436 0.68735254]\n",
            "14 day output [[0.6860626]]\n",
            "15 day input [0.35840693 0.37112558 0.39560814 0.36382855 0.37133017 0.38616292\n",
            " 0.37814983 0.39339176 0.39929076 0.3884816  0.38111638 0.39704027\n",
            " 0.40553074 0.41951103 0.42336414 0.42899035 0.41794251 0.43369591\n",
            " 0.42909265 0.4260238  0.42653527 0.44818768 0.45207488 0.44310703\n",
            " 0.4397995  0.43233198 0.42336414 0.42275037 0.42240938 0.40454189\n",
            " 0.41085007 0.51028063 0.51628192 0.52603403 0.51259931 0.50506359\n",
            " 0.4930951  0.49057183 0.49224264 0.49258363 0.49159478 0.50083541\n",
            " 0.49408395 0.51130358 0.51116718 0.5236642  0.5385481  0.5344222\n",
            " 0.54356054 0.53817301 0.54659529 0.55846149 0.59034337 0.59198009\n",
            " 0.59948171 0.62638524 0.62638524 0.62222525 0.6213046  0.5956627\n",
            " 0.59900433 0.60026597 0.62106591 0.62198657 0.62890851 0.65782385\n",
            " 0.65499369 0.66634842 0.65717598 0.66822382 0.68135166 0.64636683\n",
            " 0.67562315 0.66962185 0.6568009  0.67538446 0.67211102 0.70058308\n",
            " 0.69246769 0.68748934 0.69966243 0.7139496  0.75162819 0.70574427\n",
            " 0.70574427 0.71368372 0.712165   0.70990652 0.70748311 0.70505911\n",
            " 0.70267558 0.70035237 0.69811183 0.69597596 0.69396442 0.69209093\n",
            " 0.69036341 0.68878436 0.68735254 0.68606257]\n",
            "15 day output [[0.6849071]]\n",
            "16 day input [0.37112558 0.39560814 0.36382855 0.37133017 0.38616292 0.37814983\n",
            " 0.39339176 0.39929076 0.3884816  0.38111638 0.39704027 0.40553074\n",
            " 0.41951103 0.42336414 0.42899035 0.41794251 0.43369591 0.42909265\n",
            " 0.4260238  0.42653527 0.44818768 0.45207488 0.44310703 0.4397995\n",
            " 0.43233198 0.42336414 0.42275037 0.42240938 0.40454189 0.41085007\n",
            " 0.51028063 0.51628192 0.52603403 0.51259931 0.50506359 0.4930951\n",
            " 0.49057183 0.49224264 0.49258363 0.49159478 0.50083541 0.49408395\n",
            " 0.51130358 0.51116718 0.5236642  0.5385481  0.5344222  0.54356054\n",
            " 0.53817301 0.54659529 0.55846149 0.59034337 0.59198009 0.59948171\n",
            " 0.62638524 0.62638524 0.62222525 0.6213046  0.5956627  0.59900433\n",
            " 0.60026597 0.62106591 0.62198657 0.62890851 0.65782385 0.65499369\n",
            " 0.66634842 0.65717598 0.66822382 0.68135166 0.64636683 0.67562315\n",
            " 0.66962185 0.6568009  0.67538446 0.67211102 0.70058308 0.69246769\n",
            " 0.68748934 0.69966243 0.7139496  0.75162819 0.70574427 0.70574427\n",
            " 0.71368372 0.712165   0.70990652 0.70748311 0.70505911 0.70267558\n",
            " 0.70035237 0.69811183 0.69597596 0.69396442 0.69209093 0.69036341\n",
            " 0.68878436 0.68735254 0.68606257 0.68490708]\n",
            "16 day output [[0.6838764]]\n",
            "17 day input [0.39560814 0.36382855 0.37133017 0.38616292 0.37814983 0.39339176\n",
            " 0.39929076 0.3884816  0.38111638 0.39704027 0.40553074 0.41951103\n",
            " 0.42336414 0.42899035 0.41794251 0.43369591 0.42909265 0.4260238\n",
            " 0.42653527 0.44818768 0.45207488 0.44310703 0.4397995  0.43233198\n",
            " 0.42336414 0.42275037 0.42240938 0.40454189 0.41085007 0.51028063\n",
            " 0.51628192 0.52603403 0.51259931 0.50506359 0.4930951  0.49057183\n",
            " 0.49224264 0.49258363 0.49159478 0.50083541 0.49408395 0.51130358\n",
            " 0.51116718 0.5236642  0.5385481  0.5344222  0.54356054 0.53817301\n",
            " 0.54659529 0.55846149 0.59034337 0.59198009 0.59948171 0.62638524\n",
            " 0.62638524 0.62222525 0.6213046  0.5956627  0.59900433 0.60026597\n",
            " 0.62106591 0.62198657 0.62890851 0.65782385 0.65499369 0.66634842\n",
            " 0.65717598 0.66822382 0.68135166 0.64636683 0.67562315 0.66962185\n",
            " 0.6568009  0.67538446 0.67211102 0.70058308 0.69246769 0.68748934\n",
            " 0.69966243 0.7139496  0.75162819 0.70574427 0.70574427 0.71368372\n",
            " 0.712165   0.70990652 0.70748311 0.70505911 0.70267558 0.70035237\n",
            " 0.69811183 0.69597596 0.69396442 0.69209093 0.69036341 0.68878436\n",
            " 0.68735254 0.68606257 0.68490708 0.6838764 ]\n",
            "17 day output [[0.6829593]]\n",
            "18 day input [0.36382855 0.37133017 0.38616292 0.37814983 0.39339176 0.39929076\n",
            " 0.3884816  0.38111638 0.39704027 0.40553074 0.41951103 0.42336414\n",
            " 0.42899035 0.41794251 0.43369591 0.42909265 0.4260238  0.42653527\n",
            " 0.44818768 0.45207488 0.44310703 0.4397995  0.43233198 0.42336414\n",
            " 0.42275037 0.42240938 0.40454189 0.41085007 0.51028063 0.51628192\n",
            " 0.52603403 0.51259931 0.50506359 0.4930951  0.49057183 0.49224264\n",
            " 0.49258363 0.49159478 0.50083541 0.49408395 0.51130358 0.51116718\n",
            " 0.5236642  0.5385481  0.5344222  0.54356054 0.53817301 0.54659529\n",
            " 0.55846149 0.59034337 0.59198009 0.59948171 0.62638524 0.62638524\n",
            " 0.62222525 0.6213046  0.5956627  0.59900433 0.60026597 0.62106591\n",
            " 0.62198657 0.62890851 0.65782385 0.65499369 0.66634842 0.65717598\n",
            " 0.66822382 0.68135166 0.64636683 0.67562315 0.66962185 0.6568009\n",
            " 0.67538446 0.67211102 0.70058308 0.69246769 0.68748934 0.69966243\n",
            " 0.7139496  0.75162819 0.70574427 0.70574427 0.71368372 0.712165\n",
            " 0.70990652 0.70748311 0.70505911 0.70267558 0.70035237 0.69811183\n",
            " 0.69597596 0.69396442 0.69209093 0.69036341 0.68878436 0.68735254\n",
            " 0.68606257 0.68490708 0.6838764  0.68295932]\n",
            "18 day output [[0.6821436]]\n",
            "19 day input [0.37133017 0.38616292 0.37814983 0.39339176 0.39929076 0.3884816\n",
            " 0.38111638 0.39704027 0.40553074 0.41951103 0.42336414 0.42899035\n",
            " 0.41794251 0.43369591 0.42909265 0.4260238  0.42653527 0.44818768\n",
            " 0.45207488 0.44310703 0.4397995  0.43233198 0.42336414 0.42275037\n",
            " 0.42240938 0.40454189 0.41085007 0.51028063 0.51628192 0.52603403\n",
            " 0.51259931 0.50506359 0.4930951  0.49057183 0.49224264 0.49258363\n",
            " 0.49159478 0.50083541 0.49408395 0.51130358 0.51116718 0.5236642\n",
            " 0.5385481  0.5344222  0.54356054 0.53817301 0.54659529 0.55846149\n",
            " 0.59034337 0.59198009 0.59948171 0.62638524 0.62638524 0.62222525\n",
            " 0.6213046  0.5956627  0.59900433 0.60026597 0.62106591 0.62198657\n",
            " 0.62890851 0.65782385 0.65499369 0.66634842 0.65717598 0.66822382\n",
            " 0.68135166 0.64636683 0.67562315 0.66962185 0.6568009  0.67538446\n",
            " 0.67211102 0.70058308 0.69246769 0.68748934 0.69966243 0.7139496\n",
            " 0.75162819 0.70574427 0.70574427 0.71368372 0.712165   0.70990652\n",
            " 0.70748311 0.70505911 0.70267558 0.70035237 0.69811183 0.69597596\n",
            " 0.69396442 0.69209093 0.69036341 0.68878436 0.68735254 0.68606257\n",
            " 0.68490708 0.6838764  0.68295932 0.68214363]\n",
            "19 day output [[0.6814174]]\n",
            "20 day input [0.38616292 0.37814983 0.39339176 0.39929076 0.3884816  0.38111638\n",
            " 0.39704027 0.40553074 0.41951103 0.42336414 0.42899035 0.41794251\n",
            " 0.43369591 0.42909265 0.4260238  0.42653527 0.44818768 0.45207488\n",
            " 0.44310703 0.4397995  0.43233198 0.42336414 0.42275037 0.42240938\n",
            " 0.40454189 0.41085007 0.51028063 0.51628192 0.52603403 0.51259931\n",
            " 0.50506359 0.4930951  0.49057183 0.49224264 0.49258363 0.49159478\n",
            " 0.50083541 0.49408395 0.51130358 0.51116718 0.5236642  0.5385481\n",
            " 0.5344222  0.54356054 0.53817301 0.54659529 0.55846149 0.59034337\n",
            " 0.59198009 0.59948171 0.62638524 0.62638524 0.62222525 0.6213046\n",
            " 0.5956627  0.59900433 0.60026597 0.62106591 0.62198657 0.62890851\n",
            " 0.65782385 0.65499369 0.66634842 0.65717598 0.66822382 0.68135166\n",
            " 0.64636683 0.67562315 0.66962185 0.6568009  0.67538446 0.67211102\n",
            " 0.70058308 0.69246769 0.68748934 0.69966243 0.7139496  0.75162819\n",
            " 0.70574427 0.70574427 0.71368372 0.712165   0.70990652 0.70748311\n",
            " 0.70505911 0.70267558 0.70035237 0.69811183 0.69597596 0.69396442\n",
            " 0.69209093 0.69036341 0.68878436 0.68735254 0.68606257 0.68490708\n",
            " 0.6838764  0.68295932 0.68214363 0.68141741]\n",
            "20 day output [[0.6807677]]\n",
            "21 day input [0.37814983 0.39339176 0.39929076 0.3884816  0.38111638 0.39704027\n",
            " 0.40553074 0.41951103 0.42336414 0.42899035 0.41794251 0.43369591\n",
            " 0.42909265 0.4260238  0.42653527 0.44818768 0.45207488 0.44310703\n",
            " 0.4397995  0.43233198 0.42336414 0.42275037 0.42240938 0.40454189\n",
            " 0.41085007 0.51028063 0.51628192 0.52603403 0.51259931 0.50506359\n",
            " 0.4930951  0.49057183 0.49224264 0.49258363 0.49159478 0.50083541\n",
            " 0.49408395 0.51130358 0.51116718 0.5236642  0.5385481  0.5344222\n",
            " 0.54356054 0.53817301 0.54659529 0.55846149 0.59034337 0.59198009\n",
            " 0.59948171 0.62638524 0.62638524 0.62222525 0.6213046  0.5956627\n",
            " 0.59900433 0.60026597 0.62106591 0.62198657 0.62890851 0.65782385\n",
            " 0.65499369 0.66634842 0.65717598 0.66822382 0.68135166 0.64636683\n",
            " 0.67562315 0.66962185 0.6568009  0.67538446 0.67211102 0.70058308\n",
            " 0.69246769 0.68748934 0.69966243 0.7139496  0.75162819 0.70574427\n",
            " 0.70574427 0.71368372 0.712165   0.70990652 0.70748311 0.70505911\n",
            " 0.70267558 0.70035237 0.69811183 0.69597596 0.69396442 0.69209093\n",
            " 0.69036341 0.68878436 0.68735254 0.68606257 0.68490708 0.6838764\n",
            " 0.68295932 0.68214363 0.68141741 0.68076771]\n",
            "21 day output [[0.6801823]]\n",
            "22 day input [0.39339176 0.39929076 0.3884816  0.38111638 0.39704027 0.40553074\n",
            " 0.41951103 0.42336414 0.42899035 0.41794251 0.43369591 0.42909265\n",
            " 0.4260238  0.42653527 0.44818768 0.45207488 0.44310703 0.4397995\n",
            " 0.43233198 0.42336414 0.42275037 0.42240938 0.40454189 0.41085007\n",
            " 0.51028063 0.51628192 0.52603403 0.51259931 0.50506359 0.4930951\n",
            " 0.49057183 0.49224264 0.49258363 0.49159478 0.50083541 0.49408395\n",
            " 0.51130358 0.51116718 0.5236642  0.5385481  0.5344222  0.54356054\n",
            " 0.53817301 0.54659529 0.55846149 0.59034337 0.59198009 0.59948171\n",
            " 0.62638524 0.62638524 0.62222525 0.6213046  0.5956627  0.59900433\n",
            " 0.60026597 0.62106591 0.62198657 0.62890851 0.65782385 0.65499369\n",
            " 0.66634842 0.65717598 0.66822382 0.68135166 0.64636683 0.67562315\n",
            " 0.66962185 0.6568009  0.67538446 0.67211102 0.70058308 0.69246769\n",
            " 0.68748934 0.69966243 0.7139496  0.75162819 0.70574427 0.70574427\n",
            " 0.71368372 0.712165   0.70990652 0.70748311 0.70505911 0.70267558\n",
            " 0.70035237 0.69811183 0.69597596 0.69396442 0.69209093 0.69036341\n",
            " 0.68878436 0.68735254 0.68606257 0.68490708 0.6838764  0.68295932\n",
            " 0.68214363 0.68141741 0.68076771 0.68018228]\n",
            "22 day output [[0.6796497]]\n",
            "23 day input [0.39929076 0.3884816  0.38111638 0.39704027 0.40553074 0.41951103\n",
            " 0.42336414 0.42899035 0.41794251 0.43369591 0.42909265 0.4260238\n",
            " 0.42653527 0.44818768 0.45207488 0.44310703 0.4397995  0.43233198\n",
            " 0.42336414 0.42275037 0.42240938 0.40454189 0.41085007 0.51028063\n",
            " 0.51628192 0.52603403 0.51259931 0.50506359 0.4930951  0.49057183\n",
            " 0.49224264 0.49258363 0.49159478 0.50083541 0.49408395 0.51130358\n",
            " 0.51116718 0.5236642  0.5385481  0.5344222  0.54356054 0.53817301\n",
            " 0.54659529 0.55846149 0.59034337 0.59198009 0.59948171 0.62638524\n",
            " 0.62638524 0.62222525 0.6213046  0.5956627  0.59900433 0.60026597\n",
            " 0.62106591 0.62198657 0.62890851 0.65782385 0.65499369 0.66634842\n",
            " 0.65717598 0.66822382 0.68135166 0.64636683 0.67562315 0.66962185\n",
            " 0.6568009  0.67538446 0.67211102 0.70058308 0.69246769 0.68748934\n",
            " 0.69966243 0.7139496  0.75162819 0.70574427 0.70574427 0.71368372\n",
            " 0.712165   0.70990652 0.70748311 0.70505911 0.70267558 0.70035237\n",
            " 0.69811183 0.69597596 0.69396442 0.69209093 0.69036341 0.68878436\n",
            " 0.68735254 0.68606257 0.68490708 0.6838764  0.68295932 0.68214363\n",
            " 0.68141741 0.68076771 0.68018228 0.67964971]\n",
            "23 day output [[0.6791586]]\n",
            "24 day input [0.3884816  0.38111638 0.39704027 0.40553074 0.41951103 0.42336414\n",
            " 0.42899035 0.41794251 0.43369591 0.42909265 0.4260238  0.42653527\n",
            " 0.44818768 0.45207488 0.44310703 0.4397995  0.43233198 0.42336414\n",
            " 0.42275037 0.42240938 0.40454189 0.41085007 0.51028063 0.51628192\n",
            " 0.52603403 0.51259931 0.50506359 0.4930951  0.49057183 0.49224264\n",
            " 0.49258363 0.49159478 0.50083541 0.49408395 0.51130358 0.51116718\n",
            " 0.5236642  0.5385481  0.5344222  0.54356054 0.53817301 0.54659529\n",
            " 0.55846149 0.59034337 0.59198009 0.59948171 0.62638524 0.62638524\n",
            " 0.62222525 0.6213046  0.5956627  0.59900433 0.60026597 0.62106591\n",
            " 0.62198657 0.62890851 0.65782385 0.65499369 0.66634842 0.65717598\n",
            " 0.66822382 0.68135166 0.64636683 0.67562315 0.66962185 0.6568009\n",
            " 0.67538446 0.67211102 0.70058308 0.69246769 0.68748934 0.69966243\n",
            " 0.7139496  0.75162819 0.70574427 0.70574427 0.71368372 0.712165\n",
            " 0.70990652 0.70748311 0.70505911 0.70267558 0.70035237 0.69811183\n",
            " 0.69597596 0.69396442 0.69209093 0.69036341 0.68878436 0.68735254\n",
            " 0.68606257 0.68490708 0.6838764  0.68295932 0.68214363 0.68141741\n",
            " 0.68076771 0.68018228 0.67964971 0.67915863]\n",
            "24 day output [[0.67869896]]\n",
            "25 day input [0.38111638 0.39704027 0.40553074 0.41951103 0.42336414 0.42899035\n",
            " 0.41794251 0.43369591 0.42909265 0.4260238  0.42653527 0.44818768\n",
            " 0.45207488 0.44310703 0.4397995  0.43233198 0.42336414 0.42275037\n",
            " 0.42240938 0.40454189 0.41085007 0.51028063 0.51628192 0.52603403\n",
            " 0.51259931 0.50506359 0.4930951  0.49057183 0.49224264 0.49258363\n",
            " 0.49159478 0.50083541 0.49408395 0.51130358 0.51116718 0.5236642\n",
            " 0.5385481  0.5344222  0.54356054 0.53817301 0.54659529 0.55846149\n",
            " 0.59034337 0.59198009 0.59948171 0.62638524 0.62638524 0.62222525\n",
            " 0.6213046  0.5956627  0.59900433 0.60026597 0.62106591 0.62198657\n",
            " 0.62890851 0.65782385 0.65499369 0.66634842 0.65717598 0.66822382\n",
            " 0.68135166 0.64636683 0.67562315 0.66962185 0.6568009  0.67538446\n",
            " 0.67211102 0.70058308 0.69246769 0.68748934 0.69966243 0.7139496\n",
            " 0.75162819 0.70574427 0.70574427 0.71368372 0.712165   0.70990652\n",
            " 0.70748311 0.70505911 0.70267558 0.70035237 0.69811183 0.69597596\n",
            " 0.69396442 0.69209093 0.69036341 0.68878436 0.68735254 0.68606257\n",
            " 0.68490708 0.6838764  0.68295932 0.68214363 0.68141741 0.68076771\n",
            " 0.68018228 0.67964971 0.67915863 0.67869896]\n",
            "25 day output [[0.67826164]]\n",
            "26 day input [0.39704027 0.40553074 0.41951103 0.42336414 0.42899035 0.41794251\n",
            " 0.43369591 0.42909265 0.4260238  0.42653527 0.44818768 0.45207488\n",
            " 0.44310703 0.4397995  0.43233198 0.42336414 0.42275037 0.42240938\n",
            " 0.40454189 0.41085007 0.51028063 0.51628192 0.52603403 0.51259931\n",
            " 0.50506359 0.4930951  0.49057183 0.49224264 0.49258363 0.49159478\n",
            " 0.50083541 0.49408395 0.51130358 0.51116718 0.5236642  0.5385481\n",
            " 0.5344222  0.54356054 0.53817301 0.54659529 0.55846149 0.59034337\n",
            " 0.59198009 0.59948171 0.62638524 0.62638524 0.62222525 0.6213046\n",
            " 0.5956627  0.59900433 0.60026597 0.62106591 0.62198657 0.62890851\n",
            " 0.65782385 0.65499369 0.66634842 0.65717598 0.66822382 0.68135166\n",
            " 0.64636683 0.67562315 0.66962185 0.6568009  0.67538446 0.67211102\n",
            " 0.70058308 0.69246769 0.68748934 0.69966243 0.7139496  0.75162819\n",
            " 0.70574427 0.70574427 0.71368372 0.712165   0.70990652 0.70748311\n",
            " 0.70505911 0.70267558 0.70035237 0.69811183 0.69597596 0.69396442\n",
            " 0.69209093 0.69036341 0.68878436 0.68735254 0.68606257 0.68490708\n",
            " 0.6838764  0.68295932 0.68214363 0.68141741 0.68076771 0.68018228\n",
            " 0.67964971 0.67915863 0.67869896 0.67826164]\n",
            "26 day output [[0.67783856]]\n",
            "27 day input [0.40553074 0.41951103 0.42336414 0.42899035 0.41794251 0.43369591\n",
            " 0.42909265 0.4260238  0.42653527 0.44818768 0.45207488 0.44310703\n",
            " 0.4397995  0.43233198 0.42336414 0.42275037 0.42240938 0.40454189\n",
            " 0.41085007 0.51028063 0.51628192 0.52603403 0.51259931 0.50506359\n",
            " 0.4930951  0.49057183 0.49224264 0.49258363 0.49159478 0.50083541\n",
            " 0.49408395 0.51130358 0.51116718 0.5236642  0.5385481  0.5344222\n",
            " 0.54356054 0.53817301 0.54659529 0.55846149 0.59034337 0.59198009\n",
            " 0.59948171 0.62638524 0.62638524 0.62222525 0.6213046  0.5956627\n",
            " 0.59900433 0.60026597 0.62106591 0.62198657 0.62890851 0.65782385\n",
            " 0.65499369 0.66634842 0.65717598 0.66822382 0.68135166 0.64636683\n",
            " 0.67562315 0.66962185 0.6568009  0.67538446 0.67211102 0.70058308\n",
            " 0.69246769 0.68748934 0.69966243 0.7139496  0.75162819 0.70574427\n",
            " 0.70574427 0.71368372 0.712165   0.70990652 0.70748311 0.70505911\n",
            " 0.70267558 0.70035237 0.69811183 0.69597596 0.69396442 0.69209093\n",
            " 0.69036341 0.68878436 0.68735254 0.68606257 0.68490708 0.6838764\n",
            " 0.68295932 0.68214363 0.68141741 0.68076771 0.68018228 0.67964971\n",
            " 0.67915863 0.67869896 0.67826164 0.67783856]\n",
            "27 day output [[0.67742246]]\n",
            "28 day input [0.41951103 0.42336414 0.42899035 0.41794251 0.43369591 0.42909265\n",
            " 0.4260238  0.42653527 0.44818768 0.45207488 0.44310703 0.4397995\n",
            " 0.43233198 0.42336414 0.42275037 0.42240938 0.40454189 0.41085007\n",
            " 0.51028063 0.51628192 0.52603403 0.51259931 0.50506359 0.4930951\n",
            " 0.49057183 0.49224264 0.49258363 0.49159478 0.50083541 0.49408395\n",
            " 0.51130358 0.51116718 0.5236642  0.5385481  0.5344222  0.54356054\n",
            " 0.53817301 0.54659529 0.55846149 0.59034337 0.59198009 0.59948171\n",
            " 0.62638524 0.62638524 0.62222525 0.6213046  0.5956627  0.59900433\n",
            " 0.60026597 0.62106591 0.62198657 0.62890851 0.65782385 0.65499369\n",
            " 0.66634842 0.65717598 0.66822382 0.68135166 0.64636683 0.67562315\n",
            " 0.66962185 0.6568009  0.67538446 0.67211102 0.70058308 0.69246769\n",
            " 0.68748934 0.69966243 0.7139496  0.75162819 0.70574427 0.70574427\n",
            " 0.71368372 0.712165   0.70990652 0.70748311 0.70505911 0.70267558\n",
            " 0.70035237 0.69811183 0.69597596 0.69396442 0.69209093 0.69036341\n",
            " 0.68878436 0.68735254 0.68606257 0.68490708 0.6838764  0.68295932\n",
            " 0.68214363 0.68141741 0.68076771 0.68018228 0.67964971 0.67915863\n",
            " 0.67869896 0.67826164 0.67783856 0.67742246]\n",
            "28 day output [[0.67700785]]\n",
            "29 day input [0.42336414 0.42899035 0.41794251 0.43369591 0.42909265 0.4260238\n",
            " 0.42653527 0.44818768 0.45207488 0.44310703 0.4397995  0.43233198\n",
            " 0.42336414 0.42275037 0.42240938 0.40454189 0.41085007 0.51028063\n",
            " 0.51628192 0.52603403 0.51259931 0.50506359 0.4930951  0.49057183\n",
            " 0.49224264 0.49258363 0.49159478 0.50083541 0.49408395 0.51130358\n",
            " 0.51116718 0.5236642  0.5385481  0.5344222  0.54356054 0.53817301\n",
            " 0.54659529 0.55846149 0.59034337 0.59198009 0.59948171 0.62638524\n",
            " 0.62638524 0.62222525 0.6213046  0.5956627  0.59900433 0.60026597\n",
            " 0.62106591 0.62198657 0.62890851 0.65782385 0.65499369 0.66634842\n",
            " 0.65717598 0.66822382 0.68135166 0.64636683 0.67562315 0.66962185\n",
            " 0.6568009  0.67538446 0.67211102 0.70058308 0.69246769 0.68748934\n",
            " 0.69966243 0.7139496  0.75162819 0.70574427 0.70574427 0.71368372\n",
            " 0.712165   0.70990652 0.70748311 0.70505911 0.70267558 0.70035237\n",
            " 0.69811183 0.69597596 0.69396442 0.69209093 0.69036341 0.68878436\n",
            " 0.68735254 0.68606257 0.68490708 0.6838764  0.68295932 0.68214363\n",
            " 0.68141741 0.68076771 0.68018228 0.67964971 0.67915863 0.67869896\n",
            " 0.67826164 0.67783856 0.67742246 0.67700785]\n",
            "29 day output [[0.6765895]]\n",
            "[[0.7136837244033813], [0.7121649980545044], [0.7099065184593201], [0.7074831128120422], [0.7050591111183167], [0.7026755809783936], [0.7003523707389832], [0.6981118321418762], [0.6959759593009949], [0.693964421749115], [0.6920909285545349], [0.6903634071350098], [0.6887843608856201], [0.6873525381088257], [0.6860625743865967], [0.684907078742981], [0.6838763952255249], [0.6829593181610107], [0.6821436285972595], [0.6814174056053162], [0.6807677149772644], [0.6801822781562805], [0.6796497106552124], [0.679158627986908], [0.6786989569664001], [0.6782616376876831], [0.6778385639190674], [0.6774224638938904], [0.6770078539848328], [0.6765894889831543]]\n"
          ]
        }
      ]
    },
    {
      "cell_type": "code",
      "source": [
        "day_new=np.arange(1,100)\n",
        "day_pred=np.arange(100,130)"
      ],
      "metadata": {
        "id": "LbD5L9_TqChY"
      },
      "execution_count": 118,
      "outputs": []
    },
    {
      "cell_type": "code",
      "source": [
        "import matplotlib.pyplot as plt"
      ],
      "metadata": {
        "id": "fqLLh4QtqC5N"
      },
      "execution_count": 102,
      "outputs": []
    },
    {
      "cell_type": "code",
      "source": [
        "len(df1)"
      ],
      "metadata": {
        "colab": {
          "base_uri": "https://localhost:8080/"
        },
        "id": "Ir_YGVK_rvR6",
        "outputId": "873fe8d8-f1df-43ec-c433-c5b30e8dae84"
      },
      "execution_count": 113,
      "outputs": [
        {
          "output_type": "execute_result",
          "data": {
            "text/plain": [
              "1256"
            ]
          },
          "metadata": {},
          "execution_count": 113
        }
      ]
    },
    {
      "cell_type": "code",
      "source": [
        "plt.plot(day_new,scaler.inverse_transform(df1[1157:]))\n",
        "plt.plot(day_pred,scaler.inverse_transform(lst_output))"
      ],
      "metadata": {
        "colab": {
          "base_uri": "https://localhost:8080/",
          "height": 450
        },
        "id": "0WYm6gtFqEhw",
        "outputId": "273f034f-6e25-4d39-b0c0-77cea5bccfa4"
      },
      "execution_count": 119,
      "outputs": [
        {
          "output_type": "execute_result",
          "data": {
            "text/plain": [
              "[<matplotlib.lines.Line2D at 0x7e289b5eae30>]"
            ]
          },
          "metadata": {},
          "execution_count": 119
        },
        {
          "output_type": "display_data",
          "data": {
            "text/plain": [
              "<Figure size 640x480 with 1 Axes>"
            ],
            "image/png": "[encoded data removed]"
          },
          "metadata": {}
        }
      ]
    },
    {
      "cell_type": "code",
      "source": [
        "df3=df1.tolist()\n",
        "df3.extend(lst_output)\n",
        "plt.plot(df3[1200:])"
      ],
      "metadata": {
        "colab": {
          "base_uri": "https://localhost:8080/",
          "height": 447
        },
        "id": "DgSKVdhEqGDU",
        "outputId": "85e3c1c3-72c9-43be-c652-cfc8c219028d"
      },
      "execution_count": 110,
      "outputs": [
        {
          "output_type": "execute_result",
          "data": {
            "text/plain": [
              "[<matplotlib.lines.Line2D at 0x7e289f59bdf0>]"
            ]
          },
          "metadata": {},
          "execution_count": 110
        },
        {
          "output_type": "display_data",
          "data": {
            "text/plain": [
              "<Figure size 640x480 with 1 Axes>"
            ],
            "image/png": "[encoded data removed]"
          },
          "metadata": {}
        }
      ]
    },
    {
      "cell_type": "code",
      "source": [
        "df3=scaler.inverse_transform(df3).tolist()"
      ],
      "metadata": {
        "id": "PdhZuwk8qH-6"
      },
      "execution_count": 111,
      "outputs": []
    },
    {
      "cell_type": "code",
      "source": [
        "plt.plot(df3)"
      ],
      "metadata": {
        "colab": {
          "base_uri": "https://localhost:8080/",
          "height": 447
        },
        "id": "0UgslpY8qL1j",
        "outputId": "9a17e46f-103e-41df-b4dd-6ca3442c790d"
      },
      "execution_count": 112,
      "outputs": [
        {
          "output_type": "execute_result",
          "data": {
            "text/plain": [
              "[<matplotlib.lines.Line2D at 0x7e289f57b0a0>]"
            ]
          },
          "metadata": {},
          "execution_count": 112
        },
        {
          "output_type": "display_data",
          "data": {
            "text/plain": [
              "<Figure size 640x480 with 1 Axes>"
            ],
            "image/png": "[encoded data removed]"
          },
          "metadata": {}
        }
      ]
    }
  ]
}